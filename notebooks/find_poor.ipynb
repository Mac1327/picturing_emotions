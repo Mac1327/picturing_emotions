{
 "cells": [
  {
   "cell_type": "code",
   "execution_count": 1,
   "id": "generous-modeling",
   "metadata": {},
   "outputs": [],
   "source": [
    "import os\n",
    "import pandas as pd \n",
    "import numpy as np\n",
    "import imageio\n",
    "\n",
    "import random\n",
    "import shutil\n",
    "from shutil import copyfile\n",
    "import matplotlib.pyplot as plt\n",
    "from collections import defaultdict\n",
    "\n",
    "\n",
    "import tensorflow as tf\n",
    "from tensorflow.keras.optimizers import RMSprop\n",
    "from tensorflow.keras.preprocessing.image import ImageDataGenerator\n"
   ]
  },
  {
   "cell_type": "markdown",
   "id": "convinced-purchase",
   "metadata": {},
   "source": [
    "# Split Data"
   ]
  },
  {
   "cell_type": "code",
   "execution_count": 21,
   "id": "loose-geometry",
   "metadata": {},
   "outputs": [],
   "source": [
    "def split_data(data_dir, train, val, test, train_size):\n",
    "    \"\"\"\n",
    "    Inputs:The current data dir for a given class, the destination train, val and test dir. \n",
    "           PLus the ratio of train size.\n",
    "    Output: Copies of the the images in the correct destination file locations.\n",
    "    \"\"\"\n",
    "    #make list of of file names\n",
    "    current_data = []\n",
    "    for item in os.listdir(data_dir):\n",
    "        if os.path.getsize(data_dir+item) >0:\n",
    "            current_data.append(item)\n",
    "        else:\n",
    "            print(item, \"Source is empty!\")\n",
    "    #shuffle the list of names\n",
    "    shuff = random.sample(current_data, len(current_data))\n",
    "    #split names into train, val and test\n",
    "    size = int(len(current_data)*train_size)\n",
    "    train_set = shuff[:size]\n",
    "    val_test_set = shuff[size:]\n",
    "    \n",
    "    val_test_size = int(len(val_test_set) /2)\n",
    "    val_set = val_test_set[:val_test_size]\n",
    "    test_set = val_test_set[val_test_size:]\n",
    "    \n",
    "    #copy files into correct locations\n",
    "    for item in train_set:\n",
    "        copyfile(data_dir + item, train + item)\n",
    "    for item in val_set:\n",
    "        copyfile(data_dir + item, val + item)\n",
    "    for item in test_set:\n",
    "        copyfile(data_dir + item, test + item)"
   ]
  },
  {
   "cell_type": "code",
   "execution_count": 24,
   "id": "dress-bread",
   "metadata": {},
   "outputs": [
    {
     "name": "stdout",
     "output_type": "stream",
     "text": [
      "anger  contempt  disgust  fear\thappiness  neutrality  sadness\tsurprise\r\n"
     ]
    }
   ],
   "source": [
    "!ls ../raw_data/fer_ckplus_kdef"
   ]
  },
  {
   "cell_type": "code",
   "execution_count": 27,
   "id": "romance-chick",
   "metadata": {},
   "outputs": [],
   "source": [
    "data_dir = '../raw_data/fer_ckplus_kdef'\n",
    "\n",
    "classes = ['surprise',\n",
    "            \"fear\",\n",
    "            \"contempt\",\n",
    "            \"disgust\",\n",
    "            \"anger\",\n",
    "            \"neutrality\",\n",
    "            \"sadness\",\n",
    "            \"happiness\"]\n",
    "\n",
    "os.mkdir('../raw_data/data_full')\n",
    "os.mkdir('../raw_data/data_full/train/')\n",
    "os.mkdir('../raw_data/data_full/test/')\n",
    "os.mkdir('../raw_data/data_full/val/')\n",
    "\n",
    "for class_ in classes:\n",
    "    os.mkdir(f'../raw_data/data_full/train/{class_}')\n",
    "    os.mkdir(f'../raw_data/data_full/test/{class_}')\n",
    "    os.mkdir(f'../raw_data/data_full/val/{class_}')"
   ]
  },
  {
   "cell_type": "code",
   "execution_count": 26,
   "id": "major-canal",
   "metadata": {},
   "outputs": [
    {
     "name": "stdout",
     "output_type": "stream",
     "text": [
      "data  data_prep.ipynb  find_poor.ipynb\r\n"
     ]
    }
   ],
   "source": [
    "!ls"
   ]
  },
  {
   "cell_type": "code",
   "execution_count": 28,
   "id": "invisible-state",
   "metadata": {},
   "outputs": [],
   "source": [
    "train_size = .9\n",
    "for class_ in classes:\n",
    "    data_dir = f'../raw_data/fer_ckplus_kdef/{class_}/'\n",
    "    train_dir = f'../raw_data/data_full/train/{class_}/'\n",
    "    val_dir = f'../raw_data/data_full/val/{class_}/'\n",
    "    test_dir = f'../raw_data/data_full/test/{class_}/'\n",
    "    split_data(data_dir, train_dir, val_dir, test_dir,  train_size)"
   ]
  },
  {
   "cell_type": "code",
   "execution_count": 29,
   "id": "round-ireland",
   "metadata": {},
   "outputs": [
    {
     "name": "stdout",
     "output_type": "stream",
     "text": [
      "##########../raw_data/data_full/train/###########\n",
      "surprise:   \t 3803 images\n",
      "fear:   \t 3108 images\n",
      "contempt:   \t 117 images\n",
      "disgust:   \t 715 images\n",
      "anger:   \t 4252 images\n",
      "neutrality:   \t 4564 images\n",
      "sadness:   \t 4862 images\n",
      "happiness:   \t 8144 images\n",
      "##########../raw_data/data_full/val/###########\n",
      "surprise:   \t 211 images\n",
      "fear:   \t 173 images\n",
      "contempt:   \t 6 images\n",
      "disgust:   \t 40 images\n",
      "anger:   \t 236 images\n",
      "neutrality:   \t 254 images\n",
      "sadness:   \t 270 images\n",
      "happiness:   \t 452 images\n",
      "##########../raw_data/data_full/test/###########\n",
      "surprise:   \t 212 images\n",
      "fear:   \t 173 images\n",
      "contempt:   \t 7 images\n",
      "disgust:   \t 40 images\n",
      "anger:   \t 237 images\n",
      "neutrality:   \t 254 images\n",
      "sadness:   \t 271 images\n",
      "happiness:   \t 453 images\n"
     ]
    }
   ],
   "source": [
    "check_dr = [\"../raw_data/data_full/train/\", \"../raw_data/data_full/val/\", \"../raw_data/data_full/test/\"]\n",
    "for dr in check_dr:\n",
    "    print(f\"##########{dr}###########\")\n",
    "    for dir_ in os.listdir(dr):\n",
    "        count = 0\n",
    "        for f in os.listdir(dr + dir_ + \"/\"):\n",
    "            count += 1\n",
    "        print(f\"{dir_}:   \\t {count} images\")"
   ]
  },
  {
   "cell_type": "markdown",
   "id": "hundred-iceland",
   "metadata": {},
   "source": [
    "# Make Basic Model"
   ]
  },
  {
   "cell_type": "code",
   "execution_count": 30,
   "id": "viral-memphis",
   "metadata": {},
   "outputs": [],
   "source": [
    "model = tf.keras.models.Sequential([\n",
    "    tf.keras.layers.Conv2D(16, 3, activation='relu', input_shape=(224, 224, 1)),\n",
    "    tf.keras.layers.MaxPool2D(2),\n",
    "    tf.keras.layers.Conv2D(32, 3, activation='relu'),\n",
    "    tf.keras.layers.MaxPool2D(2),\n",
    "    tf.keras.layers.Conv2D(64, 3, activation='relu'),\n",
    "    tf.keras.layers.MaxPool2D(2),\n",
    "    tf.keras.layers.Flatten(),\n",
    "    tf.keras.layers.Dense(512, activation='relu'),\n",
    "    tf.keras.layers.Dense(8, activation='softmax')\n",
    "])\n",
    "\n",
    "model.compile(optimizer=RMSprop(lr=0.001), loss='categorical_crossentropy', metrics=['acc'])"
   ]
  },
  {
   "cell_type": "code",
   "execution_count": 31,
   "id": "spatial-characterization",
   "metadata": {},
   "outputs": [],
   "source": [
    "root = \"../raw_data/data_full/\""
   ]
  },
  {
   "cell_type": "markdown",
   "id": "hairy-anniversary",
   "metadata": {},
   "source": [
    "# Train and Val Image Generators"
   ]
  },
  {
   "cell_type": "code",
   "execution_count": 32,
   "id": "unknown-script",
   "metadata": {},
   "outputs": [
    {
     "name": "stdout",
     "output_type": "stream",
     "text": [
      "Found 29565 images belonging to 8 classes.\n"
     ]
    }
   ],
   "source": [
    "train_dir = root+'train/'\n",
    "train_datagen = ImageDataGenerator(rescale=1.0/255., \n",
    "                                      rotation_range=40,\n",
    "                                      width_shift_range=0.2,\n",
    "                                      height_shift_range=0.2,\n",
    "                                      shear_range=0.2,\n",
    "                                      zoom_range=0.2,\n",
    "                                      horizontal_flip=True,\n",
    "                                      fill_mode='nearest'\n",
    "                                    )\n",
    "\n",
    "\n",
    "train_generator = train_datagen.flow_from_directory(train_dir,\n",
    "                                                    batch_size=32,\n",
    "                                                    classes=['surprise',\n",
    "                                                            \"fear\",\n",
    "                                                            \"contempt\",\n",
    "                                                            \"disgust\",\n",
    "                                                            \"anger\",\n",
    "                                                            \"neutrality\",\n",
    "                                                            \"sadness\",\n",
    "                                                            \"happiness\"],\n",
    "                                                    class_mode=\"categorical\",\n",
    "                                                    color_mode=\"grayscale\",\n",
    "                                                    target_size=(224, 224))\n",
    "\n"
   ]
  },
  {
   "cell_type": "code",
   "execution_count": 33,
   "id": "deadly-operator",
   "metadata": {
    "scrolled": true
   },
   "outputs": [
    {
     "name": "stdout",
     "output_type": "stream",
     "text": [
      "Found 1642 images belonging to 8 classes.\n"
     ]
    }
   ],
   "source": [
    "val_dir= root+'val/'\n",
    "validation_datagen = ImageDataGenerator(rescale=1.0/255.)\n",
    "\n",
    "validation_generator = validation_datagen.flow_from_directory(val_dir,\n",
    "                                                              batch_size=32,\n",
    "                                                              classes=['surprise',\n",
    "                                                                        \"fear\",\n",
    "                                                                        \"contempt\",\n",
    "                                                                        \"disgust\",\n",
    "                                                                        \"anger\",\n",
    "                                                                        \"neutrality\",\n",
    "                                                                        \"sadness\",\n",
    "                                                                        \"happiness\"],\n",
    "                                                              class_mode=\"categorical\",\n",
    "                                                              color_mode=\"grayscale\",\n",
    "                                                              target_size=(224, 224)\n",
    "                                                             \n",
    "                                                             )"
   ]
  },
  {
   "cell_type": "markdown",
   "id": "relevant-jacket",
   "metadata": {},
   "source": [
    "# Run One Epoch "
   ]
  },
  {
   "cell_type": "code",
   "execution_count": 34,
   "id": "wrong-harmony",
   "metadata": {},
   "outputs": [
    {
     "name": "stdout",
     "output_type": "stream",
     "text": [
      "924/924 [==============================] - 844s 912ms/step - loss: 1.9778 - acc: 0.2600 - val_loss: 1.7455 - val_acc: 0.3063\n"
     ]
    }
   ],
   "source": [
    "history = model.fit(train_generator,\n",
    "                              epochs=1,\n",
    "                              verbose=1,\n",
    "                              validation_data=validation_generator)"
   ]
  },
  {
   "cell_type": "code",
   "execution_count": 36,
   "id": "functional-preservation",
   "metadata": {},
   "outputs": [
    {
     "name": "stdout",
     "output_type": "stream",
     "text": [
      "52/52 [==============================] - 10s 183ms/step - loss: 1.7455 - acc: 0.3063\n"
     ]
    },
    {
     "data": {
      "text/plain": [
       "[1.7455068826675415, 0.3063337504863739]"
      ]
     },
     "execution_count": 36,
     "metadata": {},
     "output_type": "execute_result"
    }
   ],
   "source": [
    "model.evaluate(validation_generator)"
   ]
  },
  {
   "cell_type": "code",
   "execution_count": 37,
   "id": "alike-alignment",
   "metadata": {},
   "outputs": [
    {
     "name": "stdout",
     "output_type": "stream",
     "text": [
      "INFO:tensorflow:Assets written to: one_epoch/assets\n"
     ]
    }
   ],
   "source": [
    "model.save('one_epoch')"
   ]
  },
  {
   "cell_type": "markdown",
   "id": "little-beatles",
   "metadata": {},
   "source": [
    "# Find Poor Images Based on Predictions"
   ]
  },
  {
   "cell_type": "code",
   "execution_count": 48,
   "id": "pleasant-budget",
   "metadata": {},
   "outputs": [],
   "source": [
    "classes=['surprise',\n",
    "        \"fear\",\n",
    "        \"contempt\",\n",
    "        \"disgust\",\n",
    "        \"anger\",\n",
    "        \"neutrality\",\n",
    "        \"sadness\",\n",
    "        \"happiness\"]\n",
    "\n",
    "def find_poor_images(model, emotion=\"anger\", data=\"../raw_data/data_100/test\", top_n=3):\n",
    "    \"\"\"\n",
    "    Input: model, class, data folder location and top value for prediction to be in\n",
    "    Returns: image names of poorly classified in given folder\n",
    "    \"\"\"\n",
    "    poor_label = []\n",
    "    true = classes.index(emotion)\n",
    "    for im in os.listdir(f'{data}/{emotion}/'):\n",
    "        image = imageio.imread(f'{data}/{emotion}/{im}') / 255.0\n",
    "        expand = np.expand_dims(np.expand_dims(image,axis=2), axis=0)\n",
    "        pred = model.predict_proba(expand)\n",
    "        top_values = pred.argsort()[0][-top_n:]\n",
    "        if true not in top_values:\n",
    "            poor_label.append(im)\n",
    "    return poor_label"
   ]
  },
  {
   "cell_type": "code",
   "execution_count": 49,
   "id": "invisible-madness",
   "metadata": {},
   "outputs": [
    {
     "name": "stdout",
     "output_type": "stream",
     "text": [
      "anger  contempt  disgust  fear\thappiness  neutrality  sadness\tsurprise\r\n"
     ]
    }
   ],
   "source": [
    "!ls \"../raw_data/data_100/test\""
   ]
  },
  {
   "cell_type": "code",
   "execution_count": 51,
   "id": "twenty-cooper",
   "metadata": {},
   "outputs": [
    {
     "data": {
      "text/plain": [
       "5"
      ]
     },
     "execution_count": 51,
     "metadata": {},
     "output_type": "execute_result"
    }
   ],
   "source": [
    "poor_label = find_poor_images(model, emotion=\"anger\", data=\"../raw_data/data_100/test\")\n",
    "\n",
    "len(poor_label)"
   ]
  },
  {
   "cell_type": "code",
   "execution_count": 53,
   "id": "tough-layout",
   "metadata": {
    "scrolled": true
   },
   "outputs": [
    {
     "name": "stdout",
     "output_type": "stream",
     "text": [
      "surprise    \t 3 images\n",
      "fear    \t 4 images\n",
      "contempt    \t 5 images\n",
      "disgust    \t 5 images\n",
      "anger    \t 5 images\n",
      "neutrality    \t 2 images\n",
      "sadness    \t 2 images\n",
      "happiness    \t 0 images\n"
     ]
    }
   ],
   "source": [
    "for emotion in classes:\n",
    "    poor_label = find_poor_images(model, emotion=emotion, data=\"../raw_data/data_100/test\")\n",
    "    print(f\"{emotion}    \\t {len(poor_label)} images\")"
   ]
  },
  {
   "cell_type": "code",
   "execution_count": 67,
   "id": "upper-sunday",
   "metadata": {
    "scrolled": false
   },
   "outputs": [
    {
     "data": {
      "image/png": "[encoded data removed]",
      "text/plain": [
       "<Figure size 432x288 with 1 Axes>"
      ]
     },
     "metadata": {
      "needs_background": "light"
     },
     "output_type": "display_data"
    },
    {
     "name": "stdout",
     "output_type": "stream",
     "text": [
      "\t>>>>>fear<<<<<<\n",
      "surprise:   \t14.911489188671112\n",
      "fear:   \t9.092666208744049\n",
      "contempt:   \t0.8193633519113064\n",
      "disgust:   \t3.845938667654991\n",
      "anger:   \t12.242275476455688\n",
      "neutrality:   \t17.014527320861816\n",
      "sadness:   \t14.47354108095169\n",
      "happiness:   \t27.60019600391388\n"
     ]
    },
    {
     "data": {
      "image/png": "[encoded data removed]",
      "text/plain": [
       "<Figure size 432x288 with 1 Axes>"
      ]
     },
     "metadata": {
      "needs_background": "light"
     },
     "output_type": "display_data"
    },
    {
     "name": "stdout",
     "output_type": "stream",
     "text": [
      "\t>>>>>fear<<<<<<\n",
      "surprise:   \t19.87874060869217\n",
      "fear:   \t13.724379241466522\n",
      "contempt:   \t0.035309005761519074\n",
      "disgust:   \t1.2138299643993378\n",
      "anger:   \t9.70829576253891\n",
      "neutrality:   \t17.897577583789825\n",
      "sadness:   \t15.255776047706604\n",
      "happiness:   \t22.28608876466751\n"
     ]
    },
    {
     "data": {
      "image/png": "[encoded data removed]",
      "text/plain": [
       "<Figure size 432x288 with 1 Axes>"
      ]
     },
     "metadata": {
      "needs_background": "light"
     },
     "output_type": "display_data"
    },
    {
     "name": "stdout",
     "output_type": "stream",
     "text": [
      "\t>>>>>fear<<<<<<\n",
      "surprise:   \t13.721367716789246\n",
      "fear:   \t9.991110861301422\n",
      "contempt:   \t0.20608350168913603\n",
      "disgust:   \t2.0365575328469276\n",
      "anger:   \t10.455376654863358\n",
      "neutrality:   \t15.374736487865448\n",
      "sadness:   \t13.029727339744568\n",
      "happiness:   \t35.185036063194275\n"
     ]
    },
    {
     "data": {
      "image/png": "[encoded data removed]",
      "text/plain": [
       "<Figure size 432x288 with 1 Axes>"
      ]
     },
     "metadata": {
      "needs_background": "light"
     },
     "output_type": "display_data"
    },
    {
     "name": "stdout",
     "output_type": "stream",
     "text": [
      "\t>>>>>fear<<<<<<\n",
      "surprise:   \t7.031094282865524\n",
      "fear:   \t7.117337733507156\n",
      "contempt:   \t0.17512694466859102\n",
      "disgust:   \t1.8602065742015839\n",
      "anger:   \t12.13371455669403\n",
      "neutrality:   \t16.88486486673355\n",
      "sadness:   \t15.871070325374603\n",
      "happiness:   \t38.92658352851868\n"
     ]
    }
   ],
   "source": [
    "data=\"../raw_data/data_100/test\"\n",
    "emotion=\"fear\"\n",
    "\n",
    "suprise_poor = find_poor_images(model, emotion=emotion, data=\"../raw_data/data_100/test\")\n",
    "\n",
    "for im in suprise_poor:\n",
    "    im = imageio.imread(f'{data}/{emotion}/{im}') / 255.0\n",
    "    plt.imshow(im, cmap=\"gray\")\n",
    "    plt.show()\n",
    "    print(f\"\\t>>>>>{emotion}<<<<<<\")\n",
    "    expand = np.expand_dims(np.expand_dims(im,axis=2), axis=0)\n",
    "    pred = model.predict_proba(expand)\n",
    "    for j in range(len(classes)):\n",
    "        print(f\"{classes[j]}:   \\t{pred[0][j]*100}\")\n",
    "    "
   ]
  },
  {
   "cell_type": "code",
   "execution_count": null,
   "id": "gentle-discovery",
   "metadata": {},
   "outputs": [],
   "source": []
  },
  {
   "cell_type": "code",
   "execution_count": null,
   "id": "fabulous-silver",
   "metadata": {},
   "outputs": [],
   "source": []
  }
 ],
 "metadata": {
  "kernelspec": {
   "display_name": "Python 3.8.6 64-bit ('lewagon')",
   "language": "python",
   "name": "python38664bitlewagonfbf4e41619d7477d89d3864046de77b4"
  },
  "language_info": {
   "codemirror_mode": {
    "name": "ipython",
    "version": 3
   },
   "file_extension": ".py",
   "mimetype": "text/x-python",
   "name": "python",
   "nbconvert_exporter": "python",
   "pygments_lexer": "ipython3",
   "version": "3.8.6"
  }
 },
 "nbformat": 4,
 "nbformat_minor": 5
}
