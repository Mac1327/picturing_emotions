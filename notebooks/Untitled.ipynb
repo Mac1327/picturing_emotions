{
 "cells": [
  {
   "cell_type": "code",
   "execution_count": 4,
   "id": "powerful-learning",
   "metadata": {},
   "outputs": [],
   "source": [
    "%load_ext autoreload\n",
    "%autoreload 2\n"
   ]
  },
  {
   "cell_type": "code",
   "execution_count": 5,
   "id": "technical-clause",
   "metadata": {},
   "outputs": [],
   "source": [
    "%matplotlib inline\n",
    "import numpy as np\n",
    "import pandas as pd\n",
    "import matplotlib.pyplot as plt\n",
    "import seaborn as sns"
   ]
  },
  {
   "cell_type": "code",
   "execution_count": 1,
   "id": "smooth-occasions",
   "metadata": {},
   "outputs": [],
   "source": [
    "from picturing_emotions.face_detector import DetectFace"
   ]
  },
  {
   "cell_type": "code",
   "execution_count": 13,
   "id": "greek-given",
   "metadata": {},
   "outputs": [],
   "source": [
    "img = '../raw_data/siblings.jpg'"
   ]
  },
  {
   "cell_type": "code",
   "execution_count": 7,
   "id": "durable-diagnosis",
   "metadata": {},
   "outputs": [],
   "source": []
  },
  {
   "cell_type": "code",
   "execution_count": 16,
   "id": "considerable-mitchell",
   "metadata": {},
   "outputs": [],
   "source": [
    "d = DetectFace(img)"
   ]
  },
  {
   "cell_type": "code",
   "execution_count": 31,
   "id": "corrected-screen",
   "metadata": {},
   "outputs": [
    {
     "name": "stdout",
     "output_type": "stream",
     "text": [
      "WARNING:tensorflow:5 out of the last 11 calls to <function Model.make_predict_function.<locals>.predict_function at 0x7f96ac7d89d0> triggered tf.function retracing. Tracing is expensive and the excessive number of tracings could be due to (1) creating @tf.function repeatedly in a loop, (2) passing tensors with different shapes, (3) passing Python objects instead of tensors. For (1), please define your @tf.function outside of the loop. For (2), @tf.function has experimental_relax_shapes=True option that relaxes argument shapes that can avoid unnecessary retracing. For (3), please refer to https://www.tensorflow.org/guide/function#controlling_retracing and https://www.tensorflow.org/api_docs/python/tf/function for  more details.\n",
      "WARNING:tensorflow:5 out of the last 11 calls to <function Model.make_predict_function.<locals>.predict_function at 0x7f96ac7d89d0> triggered tf.function retracing. Tracing is expensive and the excessive number of tracings could be due to (1) creating @tf.function repeatedly in a loop, (2) passing tensors with different shapes, (3) passing Python objects instead of tensors. For (1), please define your @tf.function outside of the loop. For (2), @tf.function has experimental_relax_shapes=True option that relaxes argument shapes that can avoid unnecessary retracing. For (3), please refer to https://www.tensorflow.org/guide/function#controlling_retracing and https://www.tensorflow.org/api_docs/python/tf/function for  more details.\n",
      "WARNING:tensorflow:6 out of the last 12 calls to <function Model.make_predict_function.<locals>.predict_function at 0x7f96ac7d89d0> triggered tf.function retracing. Tracing is expensive and the excessive number of tracings could be due to (1) creating @tf.function repeatedly in a loop, (2) passing tensors with different shapes, (3) passing Python objects instead of tensors. For (1), please define your @tf.function outside of the loop. For (2), @tf.function has experimental_relax_shapes=True option that relaxes argument shapes that can avoid unnecessary retracing. For (3), please refer to https://www.tensorflow.org/guide/function#controlling_retracing and https://www.tensorflow.org/api_docs/python/tf/function for  more details.\n",
      "WARNING:tensorflow:6 out of the last 12 calls to <function Model.make_predict_function.<locals>.predict_function at 0x7f96ac7f8c10> triggered tf.function retracing. Tracing is expensive and the excessive number of tracings could be due to (1) creating @tf.function repeatedly in a loop, (2) passing tensors with different shapes, (3) passing Python objects instead of tensors. For (1), please define your @tf.function outside of the loop. For (2), @tf.function has experimental_relax_shapes=True option that relaxes argument shapes that can avoid unnecessary retracing. For (3), please refer to https://www.tensorflow.org/guide/function#controlling_retracing and https://www.tensorflow.org/api_docs/python/tf/function for  more details.\n",
      "WARNING:tensorflow:5 out of the last 11 calls to <function Model.make_predict_function.<locals>.predict_function at 0x7f96ac7d8820> triggered tf.function retracing. Tracing is expensive and the excessive number of tracings could be due to (1) creating @tf.function repeatedly in a loop, (2) passing tensors with different shapes, (3) passing Python objects instead of tensors. For (1), please define your @tf.function outside of the loop. For (2), @tf.function has experimental_relax_shapes=True option that relaxes argument shapes that can avoid unnecessary retracing. For (3), please refer to https://www.tensorflow.org/guide/function#controlling_retracing and https://www.tensorflow.org/api_docs/python/tf/function for  more details.\n"
     ]
    },
    {
     "data": {
      "text/plain": [
       "[array([[[ 62,  56,  58],\n",
       "         [ 78,  59,  52],\n",
       "         [ 80,  60,  53],\n",
       "         ...,\n",
       "         [ 12,  16,  17],\n",
       "         [ 11,  17,  17],\n",
       "         [ 13,  19,  17]],\n",
       " \n",
       "        [[ 75,  69,  71],\n",
       "         [ 99,  77,  66],\n",
       "         [100,  76,  66],\n",
       "         ...,\n",
       "         [ 12,  16,  19],\n",
       "         [ 10,  15,  18],\n",
       "         [ 10,  18,  20]],\n",
       " \n",
       "        [[ 60,  54,  56],\n",
       "         [ 89,  62,  51],\n",
       "         [ 92,  65,  54],\n",
       "         ...,\n",
       "         [ 18,  22,  25],\n",
       "         [ 19,  24,  27],\n",
       "         [ 22,  27,  31]],\n",
       " \n",
       "        ...,\n",
       " \n",
       "        [[160, 164, 173],\n",
       "         [137, 137, 139],\n",
       "         [104, 105, 109],\n",
       "         ...,\n",
       "         [ 51,  25,  24],\n",
       "         [ 42,  18,  18],\n",
       "         [ 29,   5,   5]],\n",
       " \n",
       "        [[108, 118, 128],\n",
       "         [123, 122, 127],\n",
       "         [195, 196, 201],\n",
       "         ...,\n",
       "         [ 44,  20,  18],\n",
       "         [ 30,   9,   8],\n",
       "         [ 23,   2,   1]],\n",
       " \n",
       "        [[ 87, 105, 119],\n",
       "         [198, 197, 202],\n",
       "         [138, 141, 146],\n",
       "         ...,\n",
       "         [ 34,  13,  10],\n",
       "         [ 23,   3,   2],\n",
       "         [ 27,   7,   6]]], dtype=uint8),\n",
       " array([[[ 81,  84,  93],\n",
       "         [ 99,  98, 103],\n",
       "         [ 46,  40,  42],\n",
       "         ...,\n",
       "         [ 48,  44,  32],\n",
       "         [ 59,  51,  40],\n",
       "         [ 13,   3,   0]],\n",
       " \n",
       "        [[ 93,  92,  98],\n",
       "         [ 50,  44,  48],\n",
       "         [ 37,  25,  27],\n",
       "         ...,\n",
       "         [ 37,  29,  16],\n",
       "         [ 36,  26,  16],\n",
       "         [ 31,  18,  10]],\n",
       " \n",
       "        [[ 82,  77,  83],\n",
       "         [ 39,  28,  32],\n",
       "         [ 54,  38,  38],\n",
       "         ...,\n",
       "         [ 62,  45,  35],\n",
       "         [ 37,  18,  11],\n",
       "         [ 40,  23,  16]],\n",
       " \n",
       "        ...,\n",
       " \n",
       "        [[ 31,  25,  29],\n",
       "         [ 27,  18,  21],\n",
       "         [ 15,   3,   5],\n",
       "         ...,\n",
       "         [ 79,  42,  34],\n",
       "         [ 46,  17,   9],\n",
       "         [ 17,   0,   0]],\n",
       " \n",
       "        [[  5,   5,  13],\n",
       "         [ 15,  12,  19],\n",
       "         [ 19,  12,  19],\n",
       "         ...,\n",
       "         [ 73,  40,  35],\n",
       "         [ 42,  19,  13],\n",
       "         [ 12,   0,   0]],\n",
       " \n",
       "        [[ 25,  29,  41],\n",
       "         [  0,   0,  11],\n",
       "         [ 12,  12,  22],\n",
       "         ...,\n",
       "         [ 43,  15,  12],\n",
       "         [ 25,   6,   2],\n",
       "         [ 13,   3,   1]]], dtype=uint8)]"
      ]
     },
     "execution_count": 31,
     "metadata": {},
     "output_type": "execute_result"
    }
   ],
   "source": [
    "faces, X1, X2, Y1, Y2 = d.get_faces()\n",
    "faces"
   ]
  },
  {
   "cell_type": "code",
   "execution_count": 38,
   "id": "unexpected-drinking",
   "metadata": {},
   "outputs": [
    {
     "data": {
      "text/plain": [
       "<matplotlib.image.AxesImage at 0x7f96ac6546d0>"
      ]
     },
     "execution_count": 38,
     "metadata": {},
     "output_type": "execute_result"
    },
    {
     "data": {
      "image/png": "[encoded data removed]",
      "text/plain": [
       "<Figure size 432x288 with 1 Axes>"
      ]
     },
     "metadata": {
      "needs_background": "light"
     },
     "output_type": "display_data"
    }
   ],
   "source": [
    "plt.imshow(np.squeeze(faces[0]))"
   ]
  },
  {
   "cell_type": "code",
   "execution_count": 34,
   "id": "married-specialist",
   "metadata": {},
   "outputs": [
    {
     "data": {
      "text/plain": [
       "(41, 33, 3)"
      ]
     },
     "execution_count": 34,
     "metadata": {},
     "output_type": "execute_result"
    }
   ],
   "source": [
    "faces[0].shape"
   ]
  },
  {
   "cell_type": "code",
   "execution_count": 37,
   "id": "invalid-stockholm",
   "metadata": {},
   "outputs": [
    {
     "data": {
      "text/plain": [
       "(41, 33, 3)"
      ]
     },
     "execution_count": 37,
     "metadata": {},
     "output_type": "execute_result"
    }
   ],
   "source": [
    "np.squeeze(faces[0]).shape"
   ]
  },
  {
   "cell_type": "code",
   "execution_count": 33,
   "id": "fewer-kansas",
   "metadata": {},
   "outputs": [
    {
     "name": "stdout",
     "output_type": "stream",
     "text": [
      "AxesImage(54,36;334.8x217.44)\n",
      "AxesImage(54,36;334.8x217.44)\n"
     ]
    },
    {
     "data": {
      "image/png": "[encoded data removed]",
      "text/plain": [
       "<Figure size 432x288 with 1 Axes>"
      ]
     },
     "metadata": {
      "needs_background": "light"
     },
     "output_type": "display_data"
    }
   ],
   "source": [
    "new = []\n",
    "for f in faces:\n",
    "    new.append(plt.imshow(f))\n",
    "    \n",
    "for n in new:\n",
    "    print(n)"
   ]
  },
  {
   "cell_type": "code",
   "execution_count": 28,
   "id": "fabulous-japan",
   "metadata": {},
   "outputs": [
    {
     "data": {
      "text/plain": [
       "<matplotlib.image.AxesImage at 0x7f96c812b8b0>"
      ]
     },
     "execution_count": 28,
     "metadata": {},
     "output_type": "execute_result"
    }
   ],
   "source": [
    "new[1]"
   ]
  },
  {
   "cell_type": "code",
   "execution_count": null,
   "id": "adjusted-collapse",
   "metadata": {},
   "outputs": [],
   "source": []
  }
 ],
 "metadata": {
  "kernelspec": {
   "display_name": "Python 3",
   "language": "python",
   "name": "python3"
  },
  "language_info": {
   "codemirror_mode": {
    "name": "ipython",
    "version": 3
   },
   "file_extension": ".py",
   "mimetype": "text/x-python",
   "name": "python",
   "nbconvert_exporter": "python",
   "pygments_lexer": "ipython3",
   "version": "3.8.6"
  },
  "toc": {
   "base_numbering": 1,
   "nav_menu": {},
   "number_sections": true,
   "sideBar": true,
   "skip_h1_title": false,
   "title_cell": "Table of Contents",
   "title_sidebar": "Contents",
   "toc_cell": false,
   "toc_position": {},
   "toc_section_display": true,
   "toc_window_display": false
  }
 },
 "nbformat": 4,
 "nbformat_minor": 5
}
