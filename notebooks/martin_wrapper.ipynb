{
  "nbformat": 4,
  "nbformat_minor": 0,
  "metadata": {
    "colab": {
      "name": "martin_wrapper.ipynb",
      "provenance": [],
      "collapsed_sections": []
    },
    "kernelspec": {
      "display_name": "Python 3",
      "name": "python3"
    },
    "accelerator": "GPU"
  },
  "cells": [
    {
      "cell_type": "code",
      "metadata": {
        "colab": {
          "base_uri": "https://localhost:8080/"
        },
        "id": "5rhf4rxevQKo",
        "outputId": "9882f65e-3be1-44d0-975e-43bc019b3d38"
      },
      "source": [
        "!sudo pip install git+https://github.com/rcmalli/keras-vggface.git"
      ],
      "execution_count": 2,
      "outputs": [
        {
          "output_type": "stream",
          "text": [
            "Collecting git+https://github.com/rcmalli/keras-vggface.git\n",
            "  Cloning https://github.com/rcmalli/keras-vggface.git to /tmp/pip-req-build-0aao2ng1\n",
            "  Running command git clone -q https://github.com/rcmalli/keras-vggface.git /tmp/pip-req-build-0aao2ng1\n",
            "Requirement already satisfied (use --upgrade to upgrade): keras-vggface==0.6 from git+https://github.com/rcmalli/keras-vggface.git in /usr/local/lib/python3.7/dist-packages\n",
            "Requirement already satisfied: numpy>=1.9.1 in /usr/local/lib/python3.7/dist-packages (from keras-vggface==0.6) (1.19.5)\n",
            "Requirement already satisfied: scipy>=0.14 in /usr/local/lib/python3.7/dist-packages (from keras-vggface==0.6) (1.4.1)\n",
            "Requirement already satisfied: h5py in /usr/local/lib/python3.7/dist-packages (from keras-vggface==0.6) (2.10.0)\n",
            "Requirement already satisfied: pillow in /usr/local/lib/python3.7/dist-packages (from keras-vggface==0.6) (7.0.0)\n",
            "Requirement already satisfied: keras in /usr/local/lib/python3.7/dist-packages (from keras-vggface==0.6) (2.4.3)\n",
            "Requirement already satisfied: six>=1.9.0 in /usr/local/lib/python3.7/dist-packages (from keras-vggface==0.6) (1.15.0)\n",
            "Requirement already satisfied: pyyaml in /usr/local/lib/python3.7/dist-packages (from keras-vggface==0.6) (3.13)\n",
            "Building wheels for collected packages: keras-vggface\n",
            "  Building wheel for keras-vggface (setup.py) ... \u001b[?25l\u001b[?25hdone\n",
            "  Created wheel for keras-vggface: filename=keras_vggface-0.6-cp37-none-any.whl size=8312 sha256=68da2e046e96e4769c3cdfae7d0b2b766f544ca4dbae45ac90106f544d4e474d\n",
            "  Stored in directory: /tmp/pip-ephem-wheel-cache-3wbfz51e/wheels/36/07/46/06c25ce8e9cd396dabe151ea1d8a2bc28dafcb11321c1f3a6d\n",
            "Successfully built keras-vggface\n"
          ],
          "name": "stdout"
        }
      ]
    },
    {
      "cell_type": "code",
      "metadata": {
        "colab": {
          "base_uri": "https://localhost:8080/"
        },
        "id": "uezn6Dy0vTom",
        "outputId": "c6f395c3-52cd-48b4-f7cf-95360869b8b0"
      },
      "source": [
        "!pip install Keras-Applications"
      ],
      "execution_count": 3,
      "outputs": [
        {
          "output_type": "stream",
          "text": [
            "Requirement already satisfied: Keras-Applications in /usr/local/lib/python3.7/dist-packages (1.0.8)\n",
            "Requirement already satisfied: numpy>=1.9.1 in /usr/local/lib/python3.7/dist-packages (from Keras-Applications) (1.19.5)\n",
            "Requirement already satisfied: h5py in /usr/local/lib/python3.7/dist-packages (from Keras-Applications) (2.10.0)\n",
            "Requirement already satisfied: six in /usr/local/lib/python3.7/dist-packages (from h5py->Keras-Applications) (1.15.0)\n"
          ],
          "name": "stdout"
        }
      ]
    },
    {
      "cell_type": "code",
      "metadata": {
        "id": "VGfFGYU4uTMa"
      },
      "source": [
        "import os\n",
        "import pandas as pd \n",
        "import numpy as np\n",
        "import seaborn as sns\n",
        "import matplotlib.pyplot as plt\n",
        "\n",
        "\n",
        "import tensorflow as tf\n",
        "from tensorflow import keras \n",
        "from keras.engine import  Model\n",
        "from keras.layers import Flatten, Dense, Input\n",
        "from tensorflow.keras import optimizers\n",
        "from keras import preprocessing \n",
        "from keras import applications \n",
        "from tensorflow.keras.preprocessing.image import ImageDataGenerator\n",
        "from tensorflow.keras.callbacks import EarlyStopping\n",
        "from keras_vggface.vggface import VGGFace\n",
        "from keras.wrappers.scikit_learn import KerasClassifier\n",
        "\n",
        "from sklearn.model_selection import GridSearchCV"
      ],
      "execution_count": 4,
      "outputs": []
    },
    {
      "cell_type": "code",
      "metadata": {
        "id": "CzMw78A8vijv",
        "colab": {
          "base_uri": "https://localhost:8080/"
        },
        "outputId": "d57ac205-a2be-4ca3-cf5a-5cd55adb4260"
      },
      "source": [
        "!unzip /content/data_500_compressed.zip"
      ],
      "execution_count": 5,
      "outputs": [
        {
          "output_type": "stream",
          "text": [
            "Archive:  /content/data_500_compressed.zip\n",
            "replace data_500/val/happiness/img_6614.png? [y]es, [n]o, [A]ll, [N]one, [r]ename: N\n"
          ],
          "name": "stdout"
        }
      ]
    },
    {
      "cell_type": "code",
      "metadata": {
        "id": "eV7VutP1vm1V"
      },
      "source": [
        "data = \"data_500\""
      ],
      "execution_count": 6,
      "outputs": []
    },
    {
      "cell_type": "code",
      "metadata": {
        "colab": {
          "base_uri": "https://localhost:8080/"
        },
        "id": "tmOF1CJ1vmya",
        "outputId": "9e5a8e74-3c12-47c0-dafe-e583d71abef6"
      },
      "source": [
        "train_dir = data+\"/train/\"\n",
        "train_datagen = ImageDataGenerator(rescale=1.0/255., \n",
        "                                      rotation_range=40,\n",
        "                                      width_shift_range=0.2,\n",
        "                                      height_shift_range=0.2,\n",
        "                                      shear_range=0.2,\n",
        "                                      zoom_range=0.2,\n",
        "                                      horizontal_flip=True,\n",
        "                                      fill_mode='nearest'\n",
        "                                    )\n",
        "\n",
        "\n",
        "train_generator = train_datagen.flow_from_directory(train_dir,\n",
        "                                                    batch_size=2000,\n",
        "                                                    classes=['surprise',\n",
        "                                                            \"fear\",\n",
        "                                                            \"disgust\",\n",
        "                                                            \"anger\",\n",
        "                                                            \"neutrality\",\n",
        "                                                            \"sadness\",\n",
        "                                                            \"happiness\"],\n",
        "                                                    class_mode=\"categorical\",\n",
        "                                                    color_mode=\"rgb\",\n",
        "                                                    target_size=(224, 224))\n"
      ],
      "execution_count": 7,
      "outputs": [
        {
          "output_type": "stream",
          "text": [
            "Found 3150 images belonging to 7 classes.\n"
          ],
          "name": "stdout"
        }
      ]
    },
    {
      "cell_type": "code",
      "metadata": {
        "id": "20iziQZWBwbt"
      },
      "source": [
        "X_train = train_generator[0][0]\n",
        "y_train = train_generator[0][1]"
      ],
      "execution_count": 8,
      "outputs": []
    },
    {
      "cell_type": "code",
      "metadata": {
        "id": "dLsg0x5fvmjC"
      },
      "source": [
        "def load_model(model_name='vgg16', lr=1e-4, dense_1=1020, dense_2=200):\n",
        "    model = VGGFace(include_top=False, model=model_name, weights='vggface',\n",
        "           input_shape=(224, 224, 3), pooling=None, classes=7)\n",
        "    \n",
        "    model.trainable = False \n",
        "    model = tf.keras.models.Sequential([\n",
        "                            model,\n",
        "                            keras.layers.Flatten(),\n",
        "                            keras.layers.Dense(dense_1, activation='relu'),\n",
        "                            keras.layers.Dense(dense_2, activation='relu'),\n",
        "                            keras.layers.Dense(7, activation='softmax')\n",
        "                                ])\n",
        "    \n",
        "    opt = optimizers.Adam(learning_rate=lr)\n",
        "    model.compile(loss='categorical_crossentropy',\n",
        "                  optimizer=opt,\n",
        "                  metrics=['accuracy'])\n",
        "    return model\n",
        "\n",
        "#vg_face_model = load_model(model_name='senet50')"
      ],
      "execution_count": 9,
      "outputs": []
    },
    {
      "cell_type": "code",
      "metadata": {
        "id": "IjSSernzvmgP"
      },
      "source": [
        "vg_wrap_model = KerasClassifier(build_fn=load_model, model_name='vgg16', lr=1e-4, dense_1=1020, dense_2=200, batch_size=32)"
      ],
      "execution_count": 10,
      "outputs": []
    },
    {
      "cell_type": "code",
      "metadata": {
        "colab": {
          "base_uri": "https://localhost:8080/"
        },
        "id": "AXQNh4oE1m61",
        "outputId": "92fe7513-26f6-4c55-dd41-df84c9c899ec"
      },
      "source": [
        "vg_wrap_model.get_params()"
      ],
      "execution_count": 11,
      "outputs": [
        {
          "output_type": "execute_result",
          "data": {
            "text/plain": [
              "{'batch_size': 32,\n",
              " 'build_fn': <function __main__.load_model>,\n",
              " 'dense_1': 1020,\n",
              " 'dense_2': 200,\n",
              " 'lr': 0.0001,\n",
              " 'model_name': 'vgg16'}"
            ]
          },
          "metadata": {
            "tags": []
          },
          "execution_count": 11
        }
      ]
    },
    {
      "cell_type": "code",
      "metadata": {
        "colab": {
          "base_uri": "https://localhost:8080/"
        },
        "id": "zV8bjZcWxlyM",
        "outputId": "25f00fb7-8378-4d08-a43a-c359c1cb2952"
      },
      "source": [
        "tf.keras.backend.clear_session()\n",
        "#epochs = [1]\n",
        "\n",
        "param_grid ={'dense_1': [700, 1000, 1020, 1200],\n",
        " 'dense_2': [300, 500, 700, 900],\n",
        " 'lr': [1e-4, 2e-4, 5e-4, 7e-4],\n",
        " 'model_name': ['vgg16','resnet50', 'senet50'],\n",
        "}\n",
        "\n",
        "grid = GridSearchCV(estimator=vg_wrap_model, param_grid=param_grid, verbose=1)\n",
        "\n",
        "grid_result = grid.fit(X_train, y_train)"
      ],
      "execution_count": null,
      "outputs": [
        {
          "output_type": "stream",
          "text": [
            "Fitting 5 folds for each of 192 candidates, totalling 960 fits\n"
          ],
          "name": "stdout"
        },
        {
          "output_type": "stream",
          "text": [
            "[Parallel(n_jobs=1)]: Using backend SequentialBackend with 1 concurrent workers.\n"
          ],
          "name": "stderr"
        },
        {
          "output_type": "stream",
          "text": [
            "50/50 [==============================] - 44s 120ms/step - loss: 1.9176 - accuracy: 0.1874\n",
            "13/13 [==============================] - 5s 367ms/step - loss: 1.7713 - accuracy: 0.3400\n",
            "50/50 [==============================] - 7s 122ms/step - loss: 1.9161 - accuracy: 0.2161\n",
            "13/13 [==============================] - 2s 113ms/step - loss: 1.7979 - accuracy: 0.3325\n",
            "50/50 [==============================] - 7s 122ms/step - loss: 1.9149 - accuracy: 0.2209\n",
            "13/13 [==============================] - 2s 115ms/step - loss: 1.7907 - accuracy: 0.3350\n",
            "50/50 [==============================] - 7s 122ms/step - loss: 1.9196 - accuracy: 0.1769\n",
            "13/13 [==============================] - 2s 116ms/step - loss: 1.7926 - accuracy: 0.3125\n",
            "50/50 [==============================] - 7s 122ms/step - loss: 1.9136 - accuracy: 0.1968\n",
            "13/13 [==============================] - 2s 116ms/step - loss: 1.7473 - accuracy: 0.3500\n",
            "Downloading data from https://github.com/rcmalli/keras-vggface/releases/download/v2.0/rcmalli_vggface_tf_notop_resnet50.h5\n",
            "94699520/94694792 [==============================] - 1s 0us/step\n",
            "50/50 [==============================] - 7s 79ms/step - loss: 1.9822 - accuracy: 0.1407\n",
            "13/13 [==============================] - 2s 118ms/step - loss: 1.9772 - accuracy: 0.0975\n",
            "50/50 [==============================] - 6s 79ms/step - loss: 1.9804 - accuracy: 0.1363\n",
            "13/13 [==============================] - 2s 76ms/step - loss: 2.0052 - accuracy: 0.1550\n",
            "50/50 [==============================] - 7s 81ms/step - loss: 1.9852 - accuracy: 0.1308\n",
            "13/13 [==============================] - 2s 76ms/step - loss: 1.9568 - accuracy: 0.1425\n",
            "50/50 [==============================] - 6s 80ms/step - loss: 2.0245 - accuracy: 0.1437\n",
            "13/13 [==============================] - 2s 77ms/step - loss: 1.9708 - accuracy: 0.1375\n",
            "50/50 [==============================] - 6s 80ms/step - loss: 1.9653 - accuracy: 0.1388\n",
            "13/13 [==============================] - 2s 78ms/step - loss: 1.9666 - accuracy: 0.1625\n",
            "Downloading data from https://github.com/rcmalli/keras-vggface/releases/download/v2.0/rcmalli_vggface_tf_notop_senet50.h5\n",
            "104947712/104944616 [==============================] - 1s 0us/step\n",
            "50/50 [==============================] - 9s 99ms/step - loss: 2.0577 - accuracy: 0.1439\n",
            "13/13 [==============================] - 2s 101ms/step - loss: 2.0283 - accuracy: 0.1500\n",
            "50/50 [==============================] - 8s 98ms/step - loss: 2.0411 - accuracy: 0.1496\n",
            "13/13 [==============================] - 2s 95ms/step - loss: 1.9812 - accuracy: 0.1425\n",
            "50/50 [==============================] - 9s 99ms/step - loss: 2.1156 - accuracy: 0.1242\n",
            "13/13 [==============================] - 2s 96ms/step - loss: 2.0022 - accuracy: 0.1425\n",
            "50/50 [==============================] - 8s 97ms/step - loss: 2.0646 - accuracy: 0.1750\n",
            "13/13 [==============================] - 2s 95ms/step - loss: 1.9825 - accuracy: 0.1600\n",
            "50/50 [==============================] - 9s 98ms/step - loss: 2.0696 - accuracy: 0.1381\n",
            "13/13 [==============================] - 2s 94ms/step - loss: 2.0005 - accuracy: 0.1325\n",
            "50/50 [==============================] - 7s 127ms/step - loss: 1.8940 - accuracy: 0.2221\n",
            "13/13 [==============================] - 2s 119ms/step - loss: 1.6254 - accuracy: 0.4400\n",
            "50/50 [==============================] - 7s 129ms/step - loss: 1.8830 - accuracy: 0.2361\n",
            "13/13 [==============================] - 2s 122ms/step - loss: 1.6839 - accuracy: 0.3575\n",
            "50/50 [==============================] - 7s 129ms/step - loss: 1.8941 - accuracy: 0.2296\n",
            "13/13 [==============================] - 2s 121ms/step - loss: 1.6960 - accuracy: 0.3675\n",
            "50/50 [==============================] - 7s 130ms/step - loss: 1.9041 - accuracy: 0.2209\n",
            "13/13 [==============================] - 2s 124ms/step - loss: 1.7011 - accuracy: 0.3300\n",
            "50/50 [==============================] - 7s 132ms/step - loss: 1.9033 - accuracy: 0.2079\n",
            "13/13 [==============================] - 2s 124ms/step - loss: 1.6776 - accuracy: 0.3950\n",
            "50/50 [==============================] - 7s 82ms/step - loss: 1.9674 - accuracy: 0.1411\n",
            "13/13 [==============================] - 2s 79ms/step - loss: 1.9446 - accuracy: 0.1475\n",
            "50/50 [==============================] - 7s 82ms/step - loss: 1.9861 - accuracy: 0.1518\n",
            "13/13 [==============================] - 2s 80ms/step - loss: 1.9880 - accuracy: 0.1225\n",
            "50/50 [==============================] - 7s 82ms/step - loss: 1.9951 - accuracy: 0.1443\n",
            "13/13 [==============================] - 2s 78ms/step - loss: 1.9769 - accuracy: 0.1425\n",
            "50/50 [==============================] - 7s 83ms/step - loss: 2.0268 - accuracy: 0.1348\n",
            "13/13 [==============================] - 2s 80ms/step - loss: 1.9499 - accuracy: 0.1175\n",
            "50/50 [==============================] - 6s 83ms/step - loss: 1.9834 - accuracy: 0.1068\n",
            "13/13 [==============================] - 2s 79ms/step - loss: 1.9738 - accuracy: 0.1200\n",
            "50/50 [==============================] - 9s 100ms/step - loss: 2.1908 - accuracy: 0.1439\n",
            "13/13 [==============================] - 2s 98ms/step - loss: 2.0559 - accuracy: 0.1625\n",
            "50/50 [==============================] - 9s 99ms/step - loss: 2.2156 - accuracy: 0.1367\n",
            "13/13 [==============================] - 2s 96ms/step - loss: 1.9963 - accuracy: 0.1450\n",
            "50/50 [==============================] - 9s 100ms/step - loss: 2.1441 - accuracy: 0.1201\n",
            "13/13 [==============================] - 2s 97ms/step - loss: 2.0515 - accuracy: 0.1425\n",
            "50/50 [==============================] - 9s 100ms/step - loss: 2.1195 - accuracy: 0.1594\n",
            "13/13 [==============================] - 2s 96ms/step - loss: 1.9824 - accuracy: 0.1425\n",
            "50/50 [==============================] - 9s 100ms/step - loss: 2.2255 - accuracy: 0.1345\n",
            "13/13 [==============================] - 2s 97ms/step - loss: 2.0036 - accuracy: 0.1800\n",
            "50/50 [==============================] - 7s 133ms/step - loss: 1.8958 - accuracy: 0.2208\n",
            "13/13 [==============================] - 2s 125ms/step - loss: 1.5649 - accuracy: 0.4175\n",
            "50/50 [==============================] - 7s 133ms/step - loss: 1.8724 - accuracy: 0.2497\n",
            "13/13 [==============================] - 2s 126ms/step - loss: 1.7115 - accuracy: 0.3525\n",
            "50/50 [==============================] - 7s 132ms/step - loss: 1.8887 - accuracy: 0.2083\n",
            "13/13 [==============================] - 2s 124ms/step - loss: 1.6304 - accuracy: 0.3625\n",
            "50/50 [==============================] - 7s 131ms/step - loss: 1.8844 - accuracy: 0.1992\n",
            "13/13 [==============================] - 2s 122ms/step - loss: 1.7137 - accuracy: 0.3075\n",
            "50/50 [==============================] - 7s 130ms/step - loss: 1.8850 - accuracy: 0.2069\n",
            "13/13 [==============================] - 2s 122ms/step - loss: 1.5918 - accuracy: 0.4225\n",
            "50/50 [==============================] - 6s 82ms/step - loss: 2.0339 - accuracy: 0.1529\n",
            "13/13 [==============================] - 2s 80ms/step - loss: 1.9514 - accuracy: 0.1400\n",
            "50/50 [==============================] - 6s 82ms/step - loss: 2.0448 - accuracy: 0.1244\n",
            "13/13 [==============================] - 2s 79ms/step - loss: 2.0161 - accuracy: 0.1375\n",
            "50/50 [==============================] - 6s 82ms/step - loss: 2.0121 - accuracy: 0.1279\n",
            "13/13 [==============================] - 2s 79ms/step - loss: 2.0498 - accuracy: 0.1250\n",
            "50/50 [==============================] - 6s 83ms/step - loss: 2.0490 - accuracy: 0.1557\n",
            "13/13 [==============================] - 2s 79ms/step - loss: 1.9804 - accuracy: 0.1700\n",
            "50/50 [==============================] - 6s 83ms/step - loss: 2.0173 - accuracy: 0.1349\n",
            "13/13 [==============================] - 2s 81ms/step - loss: 2.0146 - accuracy: 0.1325\n",
            "50/50 [==============================] - 9s 100ms/step - loss: 2.3187 - accuracy: 0.1438\n",
            "13/13 [==============================] - 2s 97ms/step - loss: 2.0106 - accuracy: 0.1475\n",
            "50/50 [==============================] - 9s 100ms/step - loss: 2.2922 - accuracy: 0.1408\n",
            "13/13 [==============================] - 2s 97ms/step - loss: 2.0372 - accuracy: 0.1225\n",
            "50/50 [==============================] - 9s 100ms/step - loss: 2.3046 - accuracy: 0.1310\n",
            "13/13 [==============================] - 2s 97ms/step - loss: 2.0044 - accuracy: 0.1150\n",
            "50/50 [==============================] - 9s 100ms/step - loss: 2.3219 - accuracy: 0.1363\n",
            "13/13 [==============================] - 2s 96ms/step - loss: 1.9968 - accuracy: 0.1375\n",
            "50/50 [==============================] - 9s 100ms/step - loss: 2.2753 - accuracy: 0.1349\n",
            "13/13 [==============================] - 2s 96ms/step - loss: 1.9889 - accuracy: 0.1800\n",
            "50/50 [==============================] - 7s 132ms/step - loss: 1.8679 - accuracy: 0.2413\n",
            "13/13 [==============================] - 2s 125ms/step - loss: 1.6434 - accuracy: 0.3600\n",
            "50/50 [==============================] - 7s 133ms/step - loss: 1.8748 - accuracy: 0.2480\n",
            "13/13 [==============================] - 2s 127ms/step - loss: 1.7225 - accuracy: 0.3350\n",
            "50/50 [==============================] - 7s 132ms/step - loss: 1.8892 - accuracy: 0.2352\n",
            "13/13 [==============================] - 2s 123ms/step - loss: 1.6046 - accuracy: 0.4000\n",
            "50/50 [==============================] - 7s 131ms/step - loss: 1.8926 - accuracy: 0.2458\n",
            "13/13 [==============================] - 2s 124ms/step - loss: 1.6214 - accuracy: 0.3700\n",
            "50/50 [==============================] - 7s 130ms/step - loss: 1.8846 - accuracy: 0.2275\n",
            "13/13 [==============================] - 2s 122ms/step - loss: 1.6427 - accuracy: 0.3725\n",
            "50/50 [==============================] - 6s 82ms/step - loss: 2.0690 - accuracy: 0.1364\n",
            "13/13 [==============================] - 2s 80ms/step - loss: 1.9617 - accuracy: 0.1400\n",
            "50/50 [==============================] - 6s 82ms/step - loss: 2.0640 - accuracy: 0.1346\n",
            "13/13 [==============================] - 2s 80ms/step - loss: 1.9990 - accuracy: 0.1375\n",
            "50/50 [==============================] - 6s 82ms/step - loss: 2.0383 - accuracy: 0.1350\n",
            "13/13 [==============================] - 2s 80ms/step - loss: 1.9589 - accuracy: 0.1250\n",
            "50/50 [==============================] - 6s 83ms/step - loss: 2.0427 - accuracy: 0.1622\n",
            "13/13 [==============================] - 2s 79ms/step - loss: 1.9546 - accuracy: 0.1650\n",
            "50/50 [==============================] - 6s 84ms/step - loss: 2.0220 - accuracy: 0.1707\n",
            "13/13 [==============================] - 2s 80ms/step - loss: 1.9764 - accuracy: 0.1625\n",
            "50/50 [==============================] - 9s 100ms/step - loss: 2.4304 - accuracy: 0.1445\n",
            "13/13 [==============================] - 2s 97ms/step - loss: 2.1331 - accuracy: 0.0975\n",
            "50/50 [==============================] - 9s 100ms/step - loss: 2.4616 - accuracy: 0.1455\n",
            "13/13 [==============================] - 2s 96ms/step - loss: 2.1121 - accuracy: 0.1200\n",
            "50/50 [==============================] - 8s 100ms/step - loss: 2.4190 - accuracy: 0.1329\n",
            "13/13 [==============================] - 2s 97ms/step - loss: 1.9726 - accuracy: 0.1600\n",
            "50/50 [==============================] - 9s 100ms/step - loss: 2.4940 - accuracy: 0.1579\n",
            "13/13 [==============================] - 2s 96ms/step - loss: 2.0739 - accuracy: 0.1175\n",
            "50/50 [==============================] - 9s 100ms/step - loss: 2.3674 - accuracy: 0.1364\n",
            "13/13 [==============================] - 2s 96ms/step - loss: 2.0175 - accuracy: 0.1325\n",
            "50/50 [==============================] - 7s 132ms/step - loss: 1.9083 - accuracy: 0.1940\n",
            "13/13 [==============================] - 2s 125ms/step - loss: 1.7825 - accuracy: 0.2875\n",
            "50/50 [==============================] - 7s 133ms/step - loss: 1.9170 - accuracy: 0.1814\n",
            "13/13 [==============================] - 2s 125ms/step - loss: 1.7900 - accuracy: 0.3225\n",
            "50/50 [==============================] - 7s 132ms/step - loss: 1.9168 - accuracy: 0.1887\n",
            "13/13 [==============================] - 2s 124ms/step - loss: 1.7926 - accuracy: 0.3350\n",
            "50/50 [==============================] - 7s 131ms/step - loss: 1.9154 - accuracy: 0.1966\n",
            "13/13 [==============================] - 2s 122ms/step - loss: 1.7506 - accuracy: 0.3750\n",
            "50/50 [==============================] - 7s 130ms/step - loss: 1.9119 - accuracy: 0.2103\n",
            "13/13 [==============================] - 2s 124ms/step - loss: 1.7664 - accuracy: 0.3325\n",
            "50/50 [==============================] - 6s 82ms/step - loss: 1.9891 - accuracy: 0.1333\n",
            "13/13 [==============================] - 2s 80ms/step - loss: 2.0044 - accuracy: 0.1475\n",
            "50/50 [==============================] - 6s 82ms/step - loss: 2.0039 - accuracy: 0.1357\n",
            "13/13 [==============================] - 2s 79ms/step - loss: 1.9822 - accuracy: 0.1500\n",
            "50/50 [==============================] - 6s 82ms/step - loss: 1.9885 - accuracy: 0.1367\n",
            "13/13 [==============================] - 2s 81ms/step - loss: 1.9600 - accuracy: 0.1625\n",
            "50/50 [==============================] - 6s 83ms/step - loss: 1.9630 - accuracy: 0.1715\n",
            "13/13 [==============================] - 2s 80ms/step - loss: 1.9537 - accuracy: 0.1600\n",
            "50/50 [==============================] - 6s 83ms/step - loss: 1.9776 - accuracy: 0.1242\n",
            "13/13 [==============================] - 2s 81ms/step - loss: 1.9475 - accuracy: 0.1325\n",
            "50/50 [==============================] - 9s 101ms/step - loss: 2.1368 - accuracy: 0.1208\n",
            "13/13 [==============================] - 2s 97ms/step - loss: 1.9744 - accuracy: 0.1500\n",
            "50/50 [==============================] - 9s 100ms/step - loss: 2.0699 - accuracy: 0.1275\n",
            "13/13 [==============================] - 2s 97ms/step - loss: 1.9987 - accuracy: 0.1200\n",
            "50/50 [==============================] - 9s 100ms/step - loss: 2.1283 - accuracy: 0.1190\n",
            "13/13 [==============================] - 2s 97ms/step - loss: 1.9831 - accuracy: 0.1425\n",
            "50/50 [==============================] - 9s 100ms/step - loss: 2.0485 - accuracy: 0.1423\n",
            "13/13 [==============================] - 2s 97ms/step - loss: 2.0377 - accuracy: 0.1425\n",
            "50/50 [==============================] - 9s 100ms/step - loss: 2.0950 - accuracy: 0.1541\n",
            "13/13 [==============================] - 2s 98ms/step - loss: 2.0010 - accuracy: 0.1625\n",
            "50/50 [==============================] - 7s 132ms/step - loss: 1.8908 - accuracy: 0.2253\n",
            "13/13 [==============================] - 2s 125ms/step - loss: 1.6515 - accuracy: 0.3575\n",
            "50/50 [==============================] - 7s 133ms/step - loss: 1.8974 - accuracy: 0.2177\n",
            "13/13 [==============================] - 2s 125ms/step - loss: 1.6973 - accuracy: 0.3675\n",
            "50/50 [==============================] - 7s 132ms/step - loss: 1.8867 - accuracy: 0.2177\n",
            "13/13 [==============================] - 2s 125ms/step - loss: 1.7466 - accuracy: 0.3250\n",
            "50/50 [==============================] - 7s 131ms/step - loss: 1.8951 - accuracy: 0.2146\n",
            "13/13 [==============================] - 2s 123ms/step - loss: 1.7168 - accuracy: 0.3275\n",
            "50/50 [==============================] - 7s 130ms/step - loss: 1.9110 - accuracy: 0.2004\n",
            "13/13 [==============================] - 2s 123ms/step - loss: 1.6730 - accuracy: 0.3925\n",
            "50/50 [==============================] - 6s 82ms/step - loss: 1.9918 - accuracy: 0.1497\n",
            "13/13 [==============================] - 2s 80ms/step - loss: 1.9842 - accuracy: 0.1375\n",
            "50/50 [==============================] - 6s 82ms/step - loss: 1.9819 - accuracy: 0.1307\n",
            "13/13 [==============================] - 2s 79ms/step - loss: 1.9739 - accuracy: 0.1225\n",
            "50/50 [==============================] - 6s 82ms/step - loss: 1.9875 - accuracy: 0.1565\n",
            "13/13 [==============================] - 2s 80ms/step - loss: 1.9633 - accuracy: 0.1475\n",
            "50/50 [==============================] - 6s 82ms/step - loss: 2.0057 - accuracy: 0.1330\n",
            "13/13 [==============================] - 2s 81ms/step - loss: 1.9683 - accuracy: 0.1475\n",
            "50/50 [==============================] - 6s 83ms/step - loss: 1.9733 - accuracy: 0.1542\n",
            "13/13 [==============================] - 2s 79ms/step - loss: 1.9494 - accuracy: 0.1625\n",
            "50/50 [==============================] - 9s 101ms/step - loss: 2.1425 - accuracy: 0.1451\n",
            "13/13 [==============================] - 2s 97ms/step - loss: 2.0529 - accuracy: 0.1475\n",
            "50/50 [==============================] - 9s 101ms/step - loss: 2.0987 - accuracy: 0.1274\n",
            "13/13 [==============================] - 2s 98ms/step - loss: 2.0116 - accuracy: 0.1375\n",
            "50/50 [==============================] - 8s 100ms/step - loss: 2.1692 - accuracy: 0.1323\n",
            "13/13 [==============================] - 2s 97ms/step - loss: 2.0408 - accuracy: 0.1250\n",
            "50/50 [==============================] - 9s 101ms/step - loss: 2.0889 - accuracy: 0.1553\n",
            "13/13 [==============================] - 2s 96ms/step - loss: 2.0130 - accuracy: 0.1375\n",
            "50/50 [==============================] - 9s 100ms/step - loss: 2.1800 - accuracy: 0.1503\n",
            "13/13 [==============================] - 2s 96ms/step - loss: 2.0112 - accuracy: 0.1200\n",
            "50/50 [==============================] - 7s 133ms/step - loss: 1.8809 - accuracy: 0.2271\n",
            "13/13 [==============================] - 2s 126ms/step - loss: 1.6448 - accuracy: 0.3475\n",
            "50/50 [==============================] - 7s 134ms/step - loss: 1.8788 - accuracy: 0.2259\n",
            "13/13 [==============================] - 2s 125ms/step - loss: 1.6742 - accuracy: 0.3425\n",
            "50/50 [==============================] - 7s 132ms/step - loss: 1.8859 - accuracy: 0.2001\n",
            "13/13 [==============================] - 2s 124ms/step - loss: 1.6339 - accuracy: 0.4000\n",
            "50/50 [==============================] - 7s 132ms/step - loss: 1.8806 - accuracy: 0.2168\n",
            "13/13 [==============================] - 2s 125ms/step - loss: 1.6399 - accuracy: 0.3875\n",
            "50/50 [==============================] - 7s 130ms/step - loss: 1.8676 - accuracy: 0.2336\n",
            "13/13 [==============================] - 2s 123ms/step - loss: 1.5637 - accuracy: 0.3900\n",
            "50/50 [==============================] - 6s 82ms/step - loss: 2.0481 - accuracy: 0.1455\n",
            "13/13 [==============================] - 2s 79ms/step - loss: 2.0036 - accuracy: 0.1550\n",
            "50/50 [==============================] - 6s 83ms/step - loss: 2.0318 - accuracy: 0.1495\n",
            "13/13 [==============================] - 2s 80ms/step - loss: 1.9536 - accuracy: 0.1450\n",
            "50/50 [==============================] - 6s 83ms/step - loss: 1.9984 - accuracy: 0.1547\n",
            "13/13 [==============================] - 2s 78ms/step - loss: 2.0345 - accuracy: 0.1150\n",
            "50/50 [==============================] - 6s 83ms/step - loss: 2.0422 - accuracy: 0.1450\n",
            "13/13 [==============================] - 2s 81ms/step - loss: 1.9617 - accuracy: 0.1175\n",
            "50/50 [==============================] - 6s 83ms/step - loss: 2.0237 - accuracy: 0.1383\n",
            "13/13 [==============================] - 2s 80ms/step - loss: 1.9682 - accuracy: 0.1200\n",
            "50/50 [==============================] - 9s 101ms/step - loss: 2.4693 - accuracy: 0.1293\n",
            "13/13 [==============================] - 2s 97ms/step - loss: 2.0409 - accuracy: 0.1475\n",
            "50/50 [==============================] - 9s 102ms/step - loss: 2.3809 - accuracy: 0.1126\n",
            "13/13 [==============================] - 2s 98ms/step - loss: 2.0351 - accuracy: 0.1775\n",
            "50/50 [==============================] - 9s 100ms/step - loss: 2.3359 - accuracy: 0.1508\n",
            "13/13 [==============================] - 2s 97ms/step - loss: 2.0247 - accuracy: 0.1600\n",
            "50/50 [==============================] - 9s 102ms/step - loss: 2.2998 - accuracy: 0.1335\n",
            "13/13 [==============================] - 2s 98ms/step - loss: 2.0301 - accuracy: 0.1600\n",
            "50/50 [==============================] - 9s 101ms/step - loss: 2.2965 - accuracy: 0.1562\n",
            "13/13 [==============================] - 2s 97ms/step - loss: 1.9823 - accuracy: 0.1400\n",
            "50/50 [==============================] - 7s 134ms/step - loss: 1.8850 - accuracy: 0.2120\n",
            "13/13 [==============================] - 2s 127ms/step - loss: 1.6004 - accuracy: 0.3600\n",
            "50/50 [==============================] - 7s 133ms/step - loss: 1.8552 - accuracy: 0.2319\n",
            "13/13 [==============================] - 2s 126ms/step - loss: 1.7374 - accuracy: 0.3200\n",
            "50/50 [==============================] - 7s 132ms/step - loss: 1.9024 - accuracy: 0.2106\n",
            "13/13 [==============================] - 2s 122ms/step - loss: 1.6457 - accuracy: 0.4075\n",
            "50/50 [==============================] - 7s 131ms/step - loss: 1.8845 - accuracy: 0.2392\n",
            "13/13 [==============================] - 2s 123ms/step - loss: 1.7076 - accuracy: 0.3100\n",
            "50/50 [==============================] - 7s 130ms/step - loss: 1.8932 - accuracy: 0.2085\n",
            "13/13 [==============================] - 2s 122ms/step - loss: 1.6873 - accuracy: 0.3700\n",
            "50/50 [==============================] - 6s 82ms/step - loss: 2.0945 - accuracy: 0.1388\n",
            "13/13 [==============================] - 2s 79ms/step - loss: 1.9892 - accuracy: 0.1400\n",
            "50/50 [==============================] - 6s 83ms/step - loss: 2.0412 - accuracy: 0.1430\n",
            "13/13 [==============================] - 2s 80ms/step - loss: 2.0100 - accuracy: 0.1225\n",
            "50/50 [==============================] - 6s 82ms/step - loss: 2.0561 - accuracy: 0.1327\n",
            "13/13 [==============================] - 2s 79ms/step - loss: 1.9599 - accuracy: 0.1225\n",
            "50/50 [==============================] - 6s 83ms/step - loss: 2.0424 - accuracy: 0.1321\n",
            "13/13 [==============================] - 2s 81ms/step - loss: 1.9499 - accuracy: 0.1600\n",
            "50/50 [==============================] - 6s 83ms/step - loss: 2.0422 - accuracy: 0.1655\n",
            "13/13 [==============================] - 2s 78ms/step - loss: 1.9620 - accuracy: 0.1800\n",
            "50/50 [==============================] - 9s 100ms/step - loss: 2.5892 - accuracy: 0.1273\n",
            "13/13 [==============================] - 2s 98ms/step - loss: 2.0322 - accuracy: 0.0975\n",
            "50/50 [==============================] - 9s 101ms/step - loss: 2.5050 - accuracy: 0.1207\n",
            "13/13 [==============================] - 2s 97ms/step - loss: 2.0778 - accuracy: 0.1450\n",
            "50/50 [==============================] - 8s 100ms/step - loss: 2.4597 - accuracy: 0.1269\n",
            "13/13 [==============================] - 2s 97ms/step - loss: 2.0284 - accuracy: 0.1525\n",
            "50/50 [==============================] - 9s 101ms/step - loss: 2.4569 - accuracy: 0.1636\n",
            "13/13 [==============================] - 2s 97ms/step - loss: 1.9673 - accuracy: 0.1650\n",
            "50/50 [==============================] - 9s 101ms/step - loss: 2.6006 - accuracy: 0.1456\n",
            "13/13 [==============================] - 2s 97ms/step - loss: 2.0337 - accuracy: 0.1400\n",
            "50/50 [==============================] - 7s 134ms/step - loss: 1.9191 - accuracy: 0.1855\n",
            "13/13 [==============================] - 2s 127ms/step - loss: 1.7893 - accuracy: 0.3500\n",
            "50/50 [==============================] - 7s 134ms/step - loss: 1.9099 - accuracy: 0.2014\n",
            "13/13 [==============================] - 2s 126ms/step - loss: 1.7680 - accuracy: 0.3600\n",
            "50/50 [==============================] - 7s 133ms/step - loss: 1.9105 - accuracy: 0.2156\n",
            "13/13 [==============================] - 2s 124ms/step - loss: 1.7864 - accuracy: 0.3775\n",
            "50/50 [==============================] - 7s 131ms/step - loss: 1.9148 - accuracy: 0.2045\n",
            "13/13 [==============================] - 2s 123ms/step - loss: 1.7739 - accuracy: 0.3375\n",
            "50/50 [==============================] - 7s 130ms/step - loss: 1.9204 - accuracy: 0.1948\n",
            "13/13 [==============================] - 2s 122ms/step - loss: 1.7812 - accuracy: 0.3150\n",
            "50/50 [==============================] - 6s 83ms/step - loss: 1.9731 - accuracy: 0.1496\n",
            "13/13 [==============================] - 2s 81ms/step - loss: 1.9625 - accuracy: 0.1550\n",
            "50/50 [==============================] - 6s 83ms/step - loss: 1.9729 - accuracy: 0.1367\n",
            "13/13 [==============================] - 2s 80ms/step - loss: 1.9765 - accuracy: 0.1375\n",
            "50/50 [==============================] - 6s 83ms/step - loss: 1.9808 - accuracy: 0.1418\n",
            "13/13 [==============================] - 2s 80ms/step - loss: 1.9798 - accuracy: 0.1425\n",
            "50/50 [==============================] - 7s 84ms/step - loss: 1.9619 - accuracy: 0.1472\n",
            "13/13 [==============================] - 2s 81ms/step - loss: 1.9923 - accuracy: 0.1425\n",
            "50/50 [==============================] - 6s 84ms/step - loss: 1.9968 - accuracy: 0.1377\n",
            "13/13 [==============================] - 2s 81ms/step - loss: 1.9686 - accuracy: 0.1325\n",
            "50/50 [==============================] - 9s 102ms/step - loss: 2.0334 - accuracy: 0.1495\n",
            "13/13 [==============================] - 2s 97ms/step - loss: 2.0142 - accuracy: 0.1500\n",
            "50/50 [==============================] - 9s 101ms/step - loss: 2.0427 - accuracy: 0.1517\n",
            "13/13 [==============================] - 2s 97ms/step - loss: 2.0487 - accuracy: 0.1450\n",
            "50/50 [==============================] - 9s 100ms/step - loss: 2.0846 - accuracy: 0.1450\n",
            "13/13 [==============================] - 2s 97ms/step - loss: 1.9567 - accuracy: 0.1625\n",
            "50/50 [==============================] - 9s 101ms/step - loss: 2.0602 - accuracy: 0.1478\n",
            "13/13 [==============================] - 2s 96ms/step - loss: 2.0339 - accuracy: 0.1375\n",
            "50/50 [==============================] - 9s 101ms/step - loss: 2.0309 - accuracy: 0.1328\n",
            "13/13 [==============================] - 2s 98ms/step - loss: 1.9548 - accuracy: 0.1800\n",
            "50/50 [==============================] - 7s 136ms/step - loss: 1.8977 - accuracy: 0.2092\n",
            "13/13 [==============================] - 2s 127ms/step - loss: 1.6839 - accuracy: 0.3350\n",
            "50/50 [==============================] - 7s 134ms/step - loss: 1.8867 - accuracy: 0.2265\n",
            "13/13 [==============================] - 2s 126ms/step - loss: 1.6815 - accuracy: 0.3575\n",
            "50/50 [==============================] - 7s 133ms/step - loss: 1.8823 - accuracy: 0.2158\n",
            "13/13 [==============================] - 2s 124ms/step - loss: 1.6875 - accuracy: 0.3225\n",
            "50/50 [==============================] - 7s 131ms/step - loss: 1.9057 - accuracy: 0.1935\n",
            "13/13 [==============================] - 2s 123ms/step - loss: 1.6886 - accuracy: 0.3450\n",
            "50/50 [==============================] - 7s 129ms/step - loss: 1.8969 - accuracy: 0.2369\n",
            "13/13 [==============================] - 2s 121ms/step - loss: 1.6452 - accuracy: 0.3650\n",
            "50/50 [==============================] - 6s 83ms/step - loss: 2.0189 - accuracy: 0.1301\n",
            "13/13 [==============================] - 2s 79ms/step - loss: 2.0405 - accuracy: 0.1400\n",
            "50/50 [==============================] - 6s 82ms/step - loss: 1.9903 - accuracy: 0.1485\n",
            "13/13 [==============================] - 2s 80ms/step - loss: 1.9550 - accuracy: 0.1425\n",
            "50/50 [==============================] - 6s 83ms/step - loss: 2.0173 - accuracy: 0.1273\n",
            "13/13 [==============================] - 2s 80ms/step - loss: 1.9834 - accuracy: 0.1250\n",
            "50/50 [==============================] - 6s 83ms/step - loss: 2.0024 - accuracy: 0.1405\n",
            "13/13 [==============================] - 2s 80ms/step - loss: 1.9587 - accuracy: 0.1650\n",
            "50/50 [==============================] - 6s 83ms/step - loss: 2.0232 - accuracy: 0.1333\n",
            "13/13 [==============================] - 2s 81ms/step - loss: 1.9675 - accuracy: 0.1200\n",
            "50/50 [==============================] - 9s 101ms/step - loss: 2.1549 - accuracy: 0.1313\n",
            "13/13 [==============================] - 2s 97ms/step - loss: 2.0442 - accuracy: 0.1725\n",
            "50/50 [==============================] - 9s 101ms/step - loss: 2.1515 - accuracy: 0.1408\n",
            "13/13 [==============================] - 2s 98ms/step - loss: 1.9715 - accuracy: 0.1550\n"
          ],
          "name": "stdout"
        }
      ]
    },
    {
      "cell_type": "code",
      "metadata": {
        "id": "_f7OjzIMCblI"
      },
      "source": [
        "grid_result.best_params_"
      ],
      "execution_count": null,
      "outputs": []
    },
    {
      "cell_type": "code",
      "metadata": {
        "id": "UKIaasx-CoyD"
      },
      "source": [
        "grid_result.best_score_"
      ],
      "execution_count": null,
      "outputs": []
    }
  ]
}