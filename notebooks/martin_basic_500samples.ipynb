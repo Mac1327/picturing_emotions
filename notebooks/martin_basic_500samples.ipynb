{
 "cells": [
  {
   "cell_type": "code",
   "execution_count": 1,
   "metadata": {
    "id": "UjTmVg1Kc3Hu"
   },
   "outputs": [],
   "source": [
    "import os\n",
    "import pandas as pd \n",
    "import numpy as np\n",
    "import imageio\n",
    "\n",
    "import random\n",
    "import shutil\n",
    "from shutil import copyfile\n",
    "import matplotlib.pyplot as plt\n",
    "from collections import defaultdict\n",
    "\n",
    "\n",
    "import tensorflow as tf\n",
    "from tensorflow.keras.optimizers import RMSprop\n",
    "from tensorflow.keras.preprocessing.image import ImageDataGenerator"
   ]
  },
  {
   "cell_type": "code",
   "execution_count": null,
   "metadata": {
    "id": "9-ZP4RvNdLbu"
   },
   "outputs": [],
   "source": [
    "!unzip /content/data_500_compressed.zip"
   ]
  },
  {
   "cell_type": "code",
   "execution_count": 6,
   "metadata": {
    "id": "yJ5kAZGFd3xO"
   },
   "outputs": [],
   "source": [
    "data = \"/content/data_500/\""
   ]
  },
  {
   "cell_type": "code",
   "execution_count": 4,
   "metadata": {
    "id": "pAusKDxSd9pz"
   },
   "outputs": [],
   "source": [
    "classes = ['surprise',\n",
    "            \"fear\",\n",
    "            \"contempt\",\n",
    "            \"disgust\",\n",
    "            \"anger\",\n",
    "            \"neutrality\",\n",
    "            \"sadness\",\n",
    "            \"happiness\"]"
   ]
  },
  {
   "cell_type": "code",
   "execution_count": 7,
   "metadata": {
    "colab": {
     "base_uri": "https://localhost:8080/"
    },
    "id": "Seh4qidWd9m-",
    "outputId": "d43f906d-2d9b-4688-965a-61081900f269"
   },
   "outputs": [
    {
     "name": "stdout",
     "output_type": "stream",
     "text": [
      "##########/content/data_500//train/###########\n",
      "anger:   \t 450 images\n",
      "surprise:   \t 450 images\n",
      "happiness:   \t 450 images\n",
      "disgust:   \t 450 images\n",
      "fear:   \t 450 images\n",
      "sadness:   \t 450 images\n",
      "neutrality:   \t 450 images\n",
      "##########/content/data_500//val/###########\n",
      "anger:   \t 25 images\n",
      "surprise:   \t 25 images\n",
      "happiness:   \t 25 images\n",
      "disgust:   \t 25 images\n",
      "fear:   \t 25 images\n",
      "sadness:   \t 25 images\n",
      "neutrality:   \t 25 images\n",
      "##########/content/data_500//test/###########\n",
      "anger:   \t 25 images\n",
      "surprise:   \t 25 images\n",
      "happiness:   \t 25 images\n",
      "disgust:   \t 25 images\n",
      "fear:   \t 25 images\n",
      "sadness:   \t 25 images\n",
      "neutrality:   \t 25 images\n"
     ]
    }
   ],
   "source": [
    "check_dr = [data+\"/train/\", data+\"/val/\", data+\"/test/\"]\n",
    "for dr in check_dr:\n",
    "    print(f\"##########{dr}###########\")\n",
    "    for dir_ in os.listdir(dr):\n",
    "        count = 0\n",
    "        for f in os.listdir(dr + dir_ + \"/\"):\n",
    "            count += 1\n",
    "        print(f\"{dir_}:   \\t {count} images\")"
   ]
  },
  {
   "cell_type": "markdown",
   "metadata": {
    "id": "Pb18k7tveZ64"
   },
   "source": [
    "# Basic Model"
   ]
  },
  {
   "cell_type": "code",
   "execution_count": 13,
   "metadata": {
    "id": "SDZgQErvd9kE"
   },
   "outputs": [],
   "source": [
    "model = tf.keras.models.Sequential([\n",
    "    tf.keras.layers.Conv2D(16, 3, activation='relu', input_shape=(224, 224, 1)),\n",
    "    tf.keras.layers.MaxPool2D(2),\n",
    "    tf.keras.layers.Conv2D(32, 3, activation='relu'),\n",
    "    tf.keras.layers.MaxPool2D(2),\n",
    "    tf.keras.layers.Conv2D(64, 3, activation='relu'),\n",
    "    tf.keras.layers.MaxPool2D(2),\n",
    "    tf.keras.layers.Flatten(),\n",
    "    tf.keras.layers.Dense(512, activation='relu'),\n",
    "    tf.keras.layers.Dense(7, activation='softmax')\n",
    "])\n",
    "\n",
    "model.compile(optimizer=RMSprop(lr=0.001), loss='categorical_crossentropy', metrics=['acc'])"
   ]
  },
  {
   "cell_type": "code",
   "execution_count": 14,
   "metadata": {
    "colab": {
     "base_uri": "https://localhost:8080/"
    },
    "id": "VWM04j9zd9h0",
    "outputId": "65ab947d-1920-4b12-c6dd-00f6df945bae"
   },
   "outputs": [
    {
     "name": "stdout",
     "output_type": "stream",
     "text": [
      "Found 3150 images belonging to 7 classes.\n",
      "Found 175 images belonging to 7 classes.\n"
     ]
    }
   ],
   "source": [
    "train_dir = data+'train/'\n",
    "train_datagen = ImageDataGenerator(rescale=1.0/255., \n",
    "                                      rotation_range=40,\n",
    "                                      width_shift_range=0.2,\n",
    "                                      height_shift_range=0.2,\n",
    "                                      shear_range=0.2,\n",
    "                                      zoom_range=0.2,\n",
    "                                      horizontal_flip=True,\n",
    "                                      fill_mode='nearest'\n",
    "                                    )\n",
    "\n",
    "\n",
    "train_generator = train_datagen.flow_from_directory(train_dir,\n",
    "                                                    batch_size=32,\n",
    "                                                    classes=['surprise',\n",
    "                                                            \"fear\",\n",
    "                                                            \"disgust\",\n",
    "                                                            \"anger\",\n",
    "                                                            \"neutrality\",\n",
    "                                                            \"sadness\",\n",
    "                                                            \"happiness\"],\n",
    "                                                    class_mode=\"categorical\",\n",
    "                                                    color_mode=\"grayscale\",\n",
    "                                                    target_size=(224, 224))\n",
    "val_dir= data+'val/'\n",
    "validation_datagen = ImageDataGenerator(rescale=1.0/255.)\n",
    "\n",
    "validation_generator = validation_datagen.flow_from_directory(val_dir,\n",
    "                                                              batch_size=32,\n",
    "                                                              classes=['surprise',\n",
    "                                                                        \"fear\",\n",
    "                                                                        \"disgust\",\n",
    "                                                                        \"anger\",\n",
    "                                                                        \"neutrality\",\n",
    "                                                                        \"sadness\",\n",
    "                                                                        \"happiness\"],\n",
    "                                                              class_mode=\"categorical\",\n",
    "                                                              color_mode=\"grayscale\",\n",
    "                                                              target_size=(224, 224)\n",
    "                                                             \n",
    "                                                             )"
   ]
  },
  {
   "cell_type": "code",
   "execution_count": 15,
   "metadata": {
    "colab": {
     "base_uri": "https://localhost:8080/"
    },
    "id": "VcLld5Ehd9eD",
    "outputId": "cf85e9f6-7601-4708-81e3-fa42203ac972"
   },
   "outputs": [
    {
     "name": "stdout",
     "output_type": "stream",
     "text": [
      "Epoch 1/100\n",
      "99/99 [==============================] - 14s 131ms/step - loss: 2.0438 - acc: 0.1524 - val_loss: 1.9270 - val_acc: 0.1771\n",
      "Epoch 2/100\n",
      "99/99 [==============================] - 13s 131ms/step - loss: 1.9324 - acc: 0.1822 - val_loss: 1.9728 - val_acc: 0.1886\n",
      "Epoch 3/100\n",
      "99/99 [==============================] - 13s 130ms/step - loss: 1.9188 - acc: 0.1894 - val_loss: 1.9143 - val_acc: 0.2286\n",
      "Epoch 4/100\n",
      "99/99 [==============================] - 13s 129ms/step - loss: 1.9089 - acc: 0.1999 - val_loss: 1.9137 - val_acc: 0.1829\n",
      "Epoch 5/100\n",
      "99/99 [==============================] - 13s 130ms/step - loss: 1.9025 - acc: 0.2224 - val_loss: 1.9258 - val_acc: 0.2000\n",
      "Epoch 6/100\n",
      "99/99 [==============================] - 13s 130ms/step - loss: 1.9012 - acc: 0.2165 - val_loss: 1.9328 - val_acc: 0.1829\n",
      "Epoch 7/100\n",
      "99/99 [==============================] - 13s 130ms/step - loss: 1.8979 - acc: 0.2061 - val_loss: 1.9841 - val_acc: 0.1771\n",
      "Epoch 8/100\n",
      "99/99 [==============================] - 13s 131ms/step - loss: 1.8895 - acc: 0.2161 - val_loss: 1.9380 - val_acc: 0.1943\n",
      "Epoch 9/100\n",
      "99/99 [==============================] - 13s 131ms/step - loss: 1.9006 - acc: 0.2139 - val_loss: 1.9278 - val_acc: 0.2343\n",
      "Epoch 10/100\n",
      "99/99 [==============================] - 13s 131ms/step - loss: 1.8773 - acc: 0.2354 - val_loss: 1.8978 - val_acc: 0.2629\n",
      "Epoch 11/100\n",
      "99/99 [==============================] - 13s 131ms/step - loss: 1.8810 - acc: 0.2193 - val_loss: 1.8620 - val_acc: 0.2857\n",
      "Epoch 12/100\n",
      "99/99 [==============================] - 13s 130ms/step - loss: 1.8882 - acc: 0.2190 - val_loss: 1.8521 - val_acc: 0.2514\n",
      "Epoch 13/100\n",
      "99/99 [==============================] - 13s 130ms/step - loss: 1.8777 - acc: 0.2433 - val_loss: 1.8564 - val_acc: 0.2343\n",
      "Epoch 14/100\n",
      "99/99 [==============================] - 13s 132ms/step - loss: 1.8649 - acc: 0.2364 - val_loss: 1.8793 - val_acc: 0.2514\n",
      "Epoch 15/100\n",
      "99/99 [==============================] - 13s 130ms/step - loss: 1.8486 - acc: 0.2457 - val_loss: 1.8526 - val_acc: 0.2629\n",
      "Epoch 16/100\n",
      "99/99 [==============================] - 13s 131ms/step - loss: 1.8592 - acc: 0.2285 - val_loss: 1.8390 - val_acc: 0.2400\n",
      "Epoch 17/100\n",
      "99/99 [==============================] - 13s 130ms/step - loss: 1.8610 - acc: 0.2509 - val_loss: 1.8234 - val_acc: 0.2571\n",
      "Epoch 18/100\n",
      "99/99 [==============================] - 13s 131ms/step - loss: 1.8533 - acc: 0.2459 - val_loss: 1.8057 - val_acc: 0.2743\n",
      "Epoch 19/100\n",
      "99/99 [==============================] - 13s 131ms/step - loss: 1.8313 - acc: 0.2486 - val_loss: 1.8037 - val_acc: 0.3086\n",
      "Epoch 20/100\n",
      "99/99 [==============================] - 13s 132ms/step - loss: 1.8514 - acc: 0.2579 - val_loss: 1.7712 - val_acc: 0.3257\n",
      "Epoch 21/100\n",
      "99/99 [==============================] - 13s 130ms/step - loss: 1.8249 - acc: 0.2506 - val_loss: 1.8458 - val_acc: 0.2686\n",
      "Epoch 22/100\n",
      "99/99 [==============================] - 13s 129ms/step - loss: 1.8318 - acc: 0.2606 - val_loss: 1.7735 - val_acc: 0.2857\n",
      "Epoch 23/100\n",
      "99/99 [==============================] - 13s 130ms/step - loss: 1.8369 - acc: 0.2466 - val_loss: 1.7659 - val_acc: 0.2629\n",
      "Epoch 24/100\n",
      "99/99 [==============================] - 13s 131ms/step - loss: 1.8265 - acc: 0.2622 - val_loss: 1.7452 - val_acc: 0.3143\n",
      "Epoch 25/100\n",
      "99/99 [==============================] - 13s 132ms/step - loss: 1.8203 - acc: 0.2884 - val_loss: 1.8075 - val_acc: 0.2743\n",
      "Epoch 26/100\n",
      "99/99 [==============================] - 13s 131ms/step - loss: 1.8092 - acc: 0.2770 - val_loss: 1.7419 - val_acc: 0.3029\n",
      "Epoch 27/100\n",
      "99/99 [==============================] - 13s 132ms/step - loss: 1.7928 - acc: 0.2687 - val_loss: 1.7068 - val_acc: 0.3029\n",
      "Epoch 28/100\n",
      "99/99 [==============================] - 13s 130ms/step - loss: 1.8127 - acc: 0.2890 - val_loss: 1.7133 - val_acc: 0.3943\n",
      "Epoch 29/100\n",
      "99/99 [==============================] - 13s 131ms/step - loss: 1.8158 - acc: 0.2523 - val_loss: 1.7219 - val_acc: 0.3029\n",
      "Epoch 30/100\n",
      "99/99 [==============================] - 13s 129ms/step - loss: 1.7775 - acc: 0.2842 - val_loss: 1.7180 - val_acc: 0.3429\n",
      "Epoch 31/100\n",
      "99/99 [==============================] - 13s 129ms/step - loss: 1.8098 - acc: 0.2722 - val_loss: 1.7515 - val_acc: 0.2857\n",
      "Epoch 32/100\n",
      "99/99 [==============================] - 13s 131ms/step - loss: 1.7952 - acc: 0.2810 - val_loss: 1.7640 - val_acc: 0.2343\n",
      "Epoch 33/100\n",
      "99/99 [==============================] - 13s 131ms/step - loss: 1.7940 - acc: 0.2706 - val_loss: 1.7329 - val_acc: 0.3314\n",
      "Epoch 34/100\n",
      "99/99 [==============================] - 13s 130ms/step - loss: 1.7781 - acc: 0.3005 - val_loss: 1.7759 - val_acc: 0.3143\n",
      "Epoch 35/100\n",
      "99/99 [==============================] - 13s 127ms/step - loss: 1.7714 - acc: 0.2895 - val_loss: 1.7493 - val_acc: 0.3143\n",
      "Epoch 36/100\n",
      "99/99 [==============================] - 13s 127ms/step - loss: 1.7753 - acc: 0.3003 - val_loss: 1.7388 - val_acc: 0.3200\n",
      "Epoch 37/100\n",
      "99/99 [==============================] - 13s 129ms/step - loss: 1.7900 - acc: 0.2839 - val_loss: 1.7260 - val_acc: 0.3086\n",
      "Epoch 38/100\n",
      "99/99 [==============================] - 13s 128ms/step - loss: 1.7829 - acc: 0.2949 - val_loss: 1.7837 - val_acc: 0.2629\n",
      "Epoch 39/100\n",
      "99/99 [==============================] - 13s 130ms/step - loss: 1.7837 - acc: 0.2848 - val_loss: 1.6924 - val_acc: 0.3314\n",
      "Epoch 40/100\n",
      "99/99 [==============================] - 13s 128ms/step - loss: 1.7865 - acc: 0.2704 - val_loss: 1.7115 - val_acc: 0.3314\n",
      "Epoch 41/100\n",
      "99/99 [==============================] - 13s 128ms/step - loss: 1.7713 - acc: 0.2947 - val_loss: 1.7028 - val_acc: 0.3429\n",
      "Epoch 42/100\n",
      "99/99 [==============================] - 13s 129ms/step - loss: 1.7537 - acc: 0.3000 - val_loss: 1.7271 - val_acc: 0.3029\n",
      "Epoch 43/100\n",
      "99/99 [==============================] - 13s 128ms/step - loss: 1.7759 - acc: 0.2926 - val_loss: 1.6666 - val_acc: 0.3029\n",
      "Epoch 44/100\n",
      "99/99 [==============================] - 13s 128ms/step - loss: 1.7716 - acc: 0.2825 - val_loss: 1.9579 - val_acc: 0.2114\n",
      "Epoch 45/100\n",
      "99/99 [==============================] - 13s 128ms/step - loss: 1.7976 - acc: 0.2753 - val_loss: 1.7022 - val_acc: 0.3086\n",
      "Epoch 46/100\n",
      "99/99 [==============================] - 13s 128ms/step - loss: 1.7808 - acc: 0.2666 - val_loss: 1.7345 - val_acc: 0.2686\n",
      "Epoch 47/100\n",
      "99/99 [==============================] - 13s 128ms/step - loss: 1.7636 - acc: 0.2833 - val_loss: 1.7586 - val_acc: 0.3086\n",
      "Epoch 48/100\n",
      "99/99 [==============================] - 13s 128ms/step - loss: 1.7582 - acc: 0.2860 - val_loss: 1.7798 - val_acc: 0.3029\n",
      "Epoch 49/100\n",
      "99/99 [==============================] - 13s 130ms/step - loss: 1.7782 - acc: 0.2844 - val_loss: 1.7654 - val_acc: 0.2971\n",
      "Epoch 50/100\n",
      "99/99 [==============================] - 13s 129ms/step - loss: 1.7519 - acc: 0.2955 - val_loss: 1.6917 - val_acc: 0.3600\n",
      "Epoch 51/100\n",
      "99/99 [==============================] - 13s 131ms/step - loss: 1.7639 - acc: 0.2879 - val_loss: 1.7714 - val_acc: 0.2857\n",
      "Epoch 52/100\n",
      "99/99 [==============================] - 13s 131ms/step - loss: 1.7893 - acc: 0.2860 - val_loss: 1.7826 - val_acc: 0.3029\n",
      "Epoch 53/100\n",
      "99/99 [==============================] - 13s 128ms/step - loss: 1.7427 - acc: 0.3009 - val_loss: 1.7673 - val_acc: 0.2743\n",
      "Epoch 54/100\n",
      "99/99 [==============================] - 13s 128ms/step - loss: 1.7467 - acc: 0.3087 - val_loss: 1.6785 - val_acc: 0.3371\n",
      "Epoch 55/100\n",
      "99/99 [==============================] - 13s 128ms/step - loss: 1.7323 - acc: 0.3168 - val_loss: 1.7308 - val_acc: 0.3143\n",
      "Epoch 56/100\n",
      "99/99 [==============================] - 13s 128ms/step - loss: 1.7454 - acc: 0.3064 - val_loss: 1.6922 - val_acc: 0.3429\n",
      "Epoch 57/100\n",
      "99/99 [==============================] - 13s 129ms/step - loss: 1.7566 - acc: 0.3042 - val_loss: 1.7255 - val_acc: 0.2971\n",
      "Epoch 58/100\n",
      "99/99 [==============================] - 13s 128ms/step - loss: 1.7470 - acc: 0.3062 - val_loss: 1.7150 - val_acc: 0.3429\n",
      "Epoch 59/100\n",
      "99/99 [==============================] - 13s 128ms/step - loss: 1.7366 - acc: 0.3104 - val_loss: 1.7049 - val_acc: 0.3429\n",
      "Epoch 60/100\n",
      "99/99 [==============================] - 13s 129ms/step - loss: 1.7438 - acc: 0.3045 - val_loss: 1.7604 - val_acc: 0.3143\n",
      "Epoch 61/100\n",
      "99/99 [==============================] - 13s 128ms/step - loss: 1.7612 - acc: 0.3019 - val_loss: 1.7440 - val_acc: 0.3257\n",
      "Epoch 62/100\n",
      "99/99 [==============================] - 13s 129ms/step - loss: 1.7479 - acc: 0.3008 - val_loss: 1.7675 - val_acc: 0.2629\n",
      "Epoch 63/100\n",
      "99/99 [==============================] - 13s 129ms/step - loss: 1.7554 - acc: 0.3078 - val_loss: 1.6850 - val_acc: 0.3486\n",
      "Epoch 64/100\n",
      "99/99 [==============================] - 13s 129ms/step - loss: 1.7322 - acc: 0.3086 - val_loss: 1.7057 - val_acc: 0.3543\n",
      "Epoch 65/100\n",
      "99/99 [==============================] - 13s 130ms/step - loss: 1.7441 - acc: 0.3222 - val_loss: 1.7450 - val_acc: 0.3314\n",
      "Epoch 66/100\n",
      "99/99 [==============================] - 13s 127ms/step - loss: 1.7287 - acc: 0.3262 - val_loss: 1.7047 - val_acc: 0.3371\n",
      "Epoch 67/100\n",
      "99/99 [==============================] - 13s 129ms/step - loss: 1.7018 - acc: 0.3297 - val_loss: 1.6758 - val_acc: 0.3200\n",
      "Epoch 68/100\n",
      "99/99 [==============================] - 13s 128ms/step - loss: 1.7261 - acc: 0.3176 - val_loss: 1.7552 - val_acc: 0.3486\n",
      "Epoch 69/100\n",
      "99/99 [==============================] - 13s 127ms/step - loss: 1.7139 - acc: 0.3168 - val_loss: 1.6649 - val_acc: 0.3429\n",
      "Epoch 70/100\n",
      "99/99 [==============================] - 13s 129ms/step - loss: 1.7144 - acc: 0.3162 - val_loss: 1.7159 - val_acc: 0.3257\n",
      "Epoch 71/100\n",
      "99/99 [==============================] - 13s 129ms/step - loss: 1.7256 - acc: 0.3039 - val_loss: 1.6530 - val_acc: 0.3714\n",
      "Epoch 72/100\n",
      "99/99 [==============================] - 13s 129ms/step - loss: 1.7294 - acc: 0.3137 - val_loss: 1.7216 - val_acc: 0.3029\n",
      "Epoch 73/100\n",
      "99/99 [==============================] - 13s 130ms/step - loss: 1.7138 - acc: 0.3246 - val_loss: 1.7088 - val_acc: 0.3314\n",
      "Epoch 74/100\n",
      "99/99 [==============================] - 13s 128ms/step - loss: 1.7266 - acc: 0.3338 - val_loss: 1.7166 - val_acc: 0.3143\n",
      "Epoch 75/100\n",
      "99/99 [==============================] - 13s 130ms/step - loss: 1.7451 - acc: 0.3240 - val_loss: 1.7209 - val_acc: 0.3200\n",
      "Epoch 76/100\n",
      "99/99 [==============================] - 13s 130ms/step - loss: 1.7011 - acc: 0.3309 - val_loss: 1.7105 - val_acc: 0.3314\n",
      "Epoch 77/100\n",
      "99/99 [==============================] - 13s 129ms/step - loss: 1.7057 - acc: 0.3441 - val_loss: 2.0089 - val_acc: 0.2800\n",
      "Epoch 78/100\n",
      "99/99 [==============================] - 13s 129ms/step - loss: 1.7130 - acc: 0.3184 - val_loss: 1.6754 - val_acc: 0.3771\n",
      "Epoch 79/100\n",
      "99/99 [==============================] - 13s 129ms/step - loss: 1.6830 - acc: 0.3394 - val_loss: 1.7223 - val_acc: 0.3371\n",
      "Epoch 80/100\n",
      "99/99 [==============================] - 13s 129ms/step - loss: 1.7259 - acc: 0.3314 - val_loss: 1.7712 - val_acc: 0.3086\n",
      "Epoch 81/100\n",
      "99/99 [==============================] - 13s 129ms/step - loss: 1.7143 - acc: 0.3252 - val_loss: 1.6522 - val_acc: 0.3657\n",
      "Epoch 82/100\n",
      "99/99 [==============================] - 13s 127ms/step - loss: 1.6912 - acc: 0.3385 - val_loss: 1.6614 - val_acc: 0.3543\n",
      "Epoch 83/100\n",
      "99/99 [==============================] - 13s 130ms/step - loss: 1.6906 - acc: 0.3325 - val_loss: 1.6990 - val_acc: 0.3600\n",
      "Epoch 84/100\n",
      "99/99 [==============================] - 13s 129ms/step - loss: 1.7072 - acc: 0.3135 - val_loss: 1.6878 - val_acc: 0.3143\n",
      "Epoch 85/100\n",
      "99/99 [==============================] - 13s 129ms/step - loss: 1.7050 - acc: 0.3253 - val_loss: 1.6937 - val_acc: 0.3200\n",
      "Epoch 86/100\n",
      "99/99 [==============================] - 13s 129ms/step - loss: 1.6849 - acc: 0.3372 - val_loss: 1.7332 - val_acc: 0.3257\n",
      "Epoch 87/100\n",
      "99/99 [==============================] - 13s 128ms/step - loss: 1.7079 - acc: 0.3272 - val_loss: 1.7317 - val_acc: 0.3086\n",
      "Epoch 88/100\n",
      "99/99 [==============================] - 13s 129ms/step - loss: 1.7379 - acc: 0.3190 - val_loss: 1.8034 - val_acc: 0.2686\n",
      "Epoch 89/100\n",
      "99/99 [==============================] - 13s 128ms/step - loss: 1.7076 - acc: 0.3205 - val_loss: 1.6924 - val_acc: 0.3486\n",
      "Epoch 90/100\n",
      "99/99 [==============================] - 13s 130ms/step - loss: 1.7043 - acc: 0.3337 - val_loss: 1.6932 - val_acc: 0.3829\n",
      "Epoch 91/100\n",
      "99/99 [==============================] - 13s 128ms/step - loss: 1.7093 - acc: 0.3152 - val_loss: 1.6828 - val_acc: 0.3429\n",
      "Epoch 92/100\n",
      "99/99 [==============================] - 13s 127ms/step - loss: 1.6765 - acc: 0.3430 - val_loss: 1.6624 - val_acc: 0.3714\n",
      "Epoch 93/100\n",
      "99/99 [==============================] - 13s 129ms/step - loss: 1.6919 - acc: 0.3263 - val_loss: 1.7405 - val_acc: 0.2914\n",
      "Epoch 94/100\n",
      "99/99 [==============================] - 13s 128ms/step - loss: 1.6842 - acc: 0.3447 - val_loss: 1.6594 - val_acc: 0.3543\n",
      "Epoch 95/100\n",
      "99/99 [==============================] - 13s 128ms/step - loss: 1.7035 - acc: 0.3318 - val_loss: 1.6798 - val_acc: 0.3314\n",
      "Epoch 96/100\n",
      "99/99 [==============================] - 13s 130ms/step - loss: 1.6826 - acc: 0.3466 - val_loss: 1.6728 - val_acc: 0.3429\n",
      "Epoch 97/100\n",
      "99/99 [==============================] - 13s 128ms/step - loss: 1.6536 - acc: 0.3348 - val_loss: 1.6870 - val_acc: 0.3486\n",
      "Epoch 98/100\n",
      "99/99 [==============================] - 13s 128ms/step - loss: 1.6973 - acc: 0.3378 - val_loss: 1.6572 - val_acc: 0.3714\n",
      "Epoch 99/100\n",
      "99/99 [==============================] - 13s 130ms/step - loss: 1.6642 - acc: 0.3459 - val_loss: 1.7053 - val_acc: 0.3314\n",
      "Epoch 100/100\n",
      "99/99 [==============================] - 13s 129ms/step - loss: 1.6828 - acc: 0.3510 - val_loss: 1.6823 - val_acc: 0.3543\n"
     ]
    }
   ],
   "source": [
    "history = model.fit(train_generator,\n",
    "                              epochs=100,\n",
    "                              verbose=1,\n",
    "                              validation_data=validation_generator)"
   ]
  },
  {
   "cell_type": "code",
   "execution_count": 17,
   "metadata": {
    "colab": {
     "base_uri": "https://localhost:8080/",
     "height": 265
    },
    "id": "7Gt4zqA4d9Sz",
    "outputId": "aaec0897-d08e-44fb-efe4-2c7f05681ac2"
   },
   "outputs": [
    {
     "data": {
      "image/png": "[encoded data removed]",
      "text/plain": [
       "<Figure size 432x288 with 1 Axes>"
      ]
     },
     "metadata": {
      "needs_background": "light",
      "tags": []
     },
     "output_type": "display_data"
    }
   ],
   "source": [
    "pd.DataFrame(history.history).plot();"
   ]
  },
  {
   "cell_type": "markdown",
   "metadata": {
    "id": "KFYrddESgmgN"
   },
   "source": [
    "# Transfer Learning"
   ]
  },
  {
   "cell_type": "markdown",
   "metadata": {
    "id": "CIfZ8evgk0Dt"
   },
   "source": [
    "### VGG16"
   ]
  },
  {
   "cell_type": "code",
   "execution_count": 34,
   "metadata": {
    "id": "WngKE_U3gGqj"
   },
   "outputs": [],
   "source": [
    "import tensorflow as tf\n",
    "from tensorflow import keras \n",
    "from keras.applications import VGG16\n",
    "from tensorflow.keras import layers, models\n",
    "from tensorflow.keras import optimizers\n",
    "from tensorflow.keras.callbacks import EarlyStopping\n",
    "from keras.applications import Xception"
   ]
  },
  {
   "cell_type": "code",
   "execution_count": 25,
   "metadata": {
    "id": "u_39jywHiUM7"
   },
   "outputs": [],
   "source": [
    "def load_model():\n",
    "    model = VGG16(weights=\"imagenet\", include_top=False, classes=7, \n",
    "                  input_shape=(224, 224, 3), classifier_activation=\"softmax\")\n",
    "    return model\n",
    "def set_nontrainable_layers(model):\n",
    "    # Set the first layers to be untrainable\n",
    "    model.trainable = False \n",
    "    return model\n",
    "\n",
    "def add_last_layers(model):\n",
    "    base_model = set_nontrainable_layers(model)\n",
    "    flatten_layer = layers.Flatten()\n",
    "    dense_layer = layers.Dense(500, activation='relu')\n",
    "    prediction_layer = layers.Dense(7, activation='softmax')\n",
    "    \n",
    "    \n",
    "    model = models.Sequential([\n",
    "        base_model,\n",
    "        flatten_layer,\n",
    "        dense_layer,\n",
    "        prediction_layer\n",
    "    ])\n",
    "    \n",
    "    return model\n",
    "\n",
    "def compile_model(model):\n",
    "    opt = optimizers.Adam(learning_rate=1e-4)\n",
    "    model.compile(loss='categorical_crossentropy',\n",
    "                  optimizer=opt,\n",
    "                  metrics=['accuracy'])\n",
    "    \n",
    "    return model\n",
    "\n",
    "def build_model():\n",
    "    \n",
    "    model = load_model()\n",
    "    model = add_last_layers(model)\n",
    "    model = compile_model(model)\n",
    "    \n",
    "    return model\n",
    "\n",
    "vg_model = build_model()"
   ]
  },
  {
   "cell_type": "code",
   "execution_count": 26,
   "metadata": {
    "colab": {
     "base_uri": "https://localhost:8080/"
    },
    "id": "x9lCTrf8kKEY",
    "outputId": "773efc7b-e7b2-457c-a761-b6b5d52faf40"
   },
   "outputs": [
    {
     "name": "stdout",
     "output_type": "stream",
     "text": [
      "Model: \"sequential_4\"\n",
      "_________________________________________________________________\n",
      "Layer (type)                 Output Shape              Param #   \n",
      "=================================================================\n",
      "vgg16 (Functional)           (None, 7, 7, 512)         14714688  \n",
      "_________________________________________________________________\n",
      "flatten_4 (Flatten)          (None, 25088)             0         \n",
      "_________________________________________________________________\n",
      "dense_8 (Dense)              (None, 500)               12544500  \n",
      "_________________________________________________________________\n",
      "dense_9 (Dense)              (None, 7)                 3507      \n",
      "=================================================================\n",
      "Total params: 27,262,695\n",
      "Trainable params: 12,548,007\n",
      "Non-trainable params: 14,714,688\n",
      "_________________________________________________________________\n"
     ]
    }
   ],
   "source": [
    "vg_model.summary()"
   ]
  },
  {
   "cell_type": "code",
   "execution_count": 27,
   "metadata": {
    "colab": {
     "base_uri": "https://localhost:8080/"
    },
    "id": "9ZQNSipai7qX",
    "outputId": "8a849e54-99ef-4afc-9867-3d95b6c32b7c"
   },
   "outputs": [
    {
     "name": "stdout",
     "output_type": "stream",
     "text": [
      "Found 3150 images belonging to 7 classes.\n",
      "Found 175 images belonging to 7 classes.\n"
     ]
    }
   ],
   "source": [
    "train_dir = data+'train/'\n",
    "train_datagen = ImageDataGenerator(rescale=1.0/255., \n",
    "                                      rotation_range=40,\n",
    "                                      width_shift_range=0.2,\n",
    "                                      height_shift_range=0.2,\n",
    "                                      shear_range=0.2,\n",
    "                                      zoom_range=0.2,\n",
    "                                      horizontal_flip=True,\n",
    "                                      fill_mode='nearest'\n",
    "                                    )\n",
    "\n",
    "\n",
    "train_generator = train_datagen.flow_from_directory(train_dir,\n",
    "                                                    batch_size=32,\n",
    "                                                    classes=['surprise',\n",
    "                                                            \"fear\",\n",
    "                                                            \"disgust\",\n",
    "                                                            \"anger\",\n",
    "                                                            \"neutrality\",\n",
    "                                                            \"sadness\",\n",
    "                                                            \"happiness\"],\n",
    "                                                    class_mode=\"categorical\",\n",
    "                                                    color_mode=\"rgb\",\n",
    "                                                    target_size=(224, 224))\n",
    "val_dir= data+'val/'\n",
    "validation_datagen = ImageDataGenerator(rescale=1.0/255.)\n",
    "\n",
    "validation_generator = validation_datagen.flow_from_directory(val_dir,\n",
    "                                                              batch_size=32,\n",
    "                                                              classes=['surprise',\n",
    "                                                                        \"fear\",\n",
    "                                                                        \"disgust\",\n",
    "                                                                        \"anger\",\n",
    "                                                                        \"neutrality\",\n",
    "                                                                        \"sadness\",\n",
    "                                                                        \"happiness\"],\n",
    "                                                              class_mode=\"categorical\",\n",
    "                                                              color_mode=\"rgb\",\n",
    "                                                              target_size=(224, 224)\n",
    "                                                             \n",
    "                                                             )"
   ]
  },
  {
   "cell_type": "code",
   "execution_count": 31,
   "metadata": {
    "colab": {
     "base_uri": "https://localhost:8080/"
    },
    "id": "3sT4KM6BkRno",
    "outputId": "016e5f69-e8b2-4eea-a5d1-93d2428d0d8a"
   },
   "outputs": [
    {
     "name": "stdout",
     "output_type": "stream",
     "text": [
      "Epoch 1/100\n",
      "99/99 [==============================] - 36s 361ms/step - loss: 1.3595 - accuracy: 0.4908 - val_loss: 1.4636 - val_accuracy: 0.4343\n",
      "Epoch 2/100\n",
      "99/99 [==============================] - 36s 366ms/step - loss: 1.3704 - accuracy: 0.4832 - val_loss: 1.4378 - val_accuracy: 0.4343\n",
      "Epoch 3/100\n",
      "99/99 [==============================] - 36s 362ms/step - loss: 1.3816 - accuracy: 0.4733 - val_loss: 1.4096 - val_accuracy: 0.4514\n",
      "Epoch 4/100\n",
      "99/99 [==============================] - 36s 361ms/step - loss: 1.3500 - accuracy: 0.4873 - val_loss: 1.4206 - val_accuracy: 0.4400\n",
      "Epoch 5/100\n",
      "99/99 [==============================] - 36s 360ms/step - loss: 1.3460 - accuracy: 0.4908 - val_loss: 1.3702 - val_accuracy: 0.4743\n",
      "Epoch 6/100\n",
      "99/99 [==============================] - 36s 360ms/step - loss: 1.3319 - accuracy: 0.4883 - val_loss: 1.3553 - val_accuracy: 0.4800\n",
      "Epoch 7/100\n",
      "99/99 [==============================] - 36s 361ms/step - loss: 1.3651 - accuracy: 0.4683 - val_loss: 1.4309 - val_accuracy: 0.4343\n",
      "Epoch 8/100\n",
      "99/99 [==============================] - 36s 360ms/step - loss: 1.3605 - accuracy: 0.4822 - val_loss: 1.5693 - val_accuracy: 0.3714\n",
      "Epoch 9/100\n",
      "99/99 [==============================] - 36s 362ms/step - loss: 1.3523 - accuracy: 0.4829 - val_loss: 1.4101 - val_accuracy: 0.4286\n",
      "Epoch 10/100\n",
      "99/99 [==============================] - 36s 362ms/step - loss: 1.3220 - accuracy: 0.4984 - val_loss: 1.3847 - val_accuracy: 0.4457\n",
      "Epoch 11/100\n",
      "99/99 [==============================] - 36s 362ms/step - loss: 1.3323 - accuracy: 0.4990 - val_loss: 1.6413 - val_accuracy: 0.3657\n",
      "Restoring model weights from the end of the best epoch.\n",
      "Epoch 00011: early stopping\n"
     ]
    }
   ],
   "source": [
    "keras.backend.clear_session()\n",
    "es = EarlyStopping(monitor='val_accuracy', mode='max', patience=5, verbose=1, restore_best_weights=True)\n",
    "history = vg_model.fit(train_generator,\n",
    "                    epochs=100,verbose=1,\n",
    "                    validation_data=validation_generator,\n",
    "                    callbacks=[es])"
   ]
  },
  {
   "cell_type": "code",
   "execution_count": 32,
   "metadata": {
    "colab": {
     "base_uri": "https://localhost:8080/",
     "height": 265
    },
    "id": "SKBhilFcl6Cv",
    "outputId": "9255e9a2-740b-425a-d425-205d81062cc3"
   },
   "outputs": [
    {
     "data": {
      "image/png": "[encoded data removed]",
      "text/plain": [
       "<Figure size 432x288 with 1 Axes>"
      ]
     },
     "metadata": {
      "needs_background": "light",
      "tags": []
     },
     "output_type": "display_data"
    }
   ],
   "source": [
    "pd.DataFrame(history.history).plot();"
   ]
  },
  {
   "cell_type": "code",
   "execution_count": 39,
   "metadata": {
    "colab": {
     "base_uri": "https://localhost:8080/"
    },
    "id": "zs8DD9BrsutL",
    "outputId": "c18272b5-29e6-42eb-c494-360d64394aee"
   },
   "outputs": [
    {
     "name": "stdout",
     "output_type": "stream",
     "text": [
      "6/6 [==============================] - 1s 105ms/step - loss: 1.3553 - accuracy: 0.4800\n"
     ]
    },
    {
     "data": {
      "text/plain": [
       "[1.3553277254104614, 0.47999998927116394]"
      ]
     },
     "execution_count": 39,
     "metadata": {
      "tags": []
     },
     "output_type": "execute_result"
    }
   ],
   "source": [
    "vg_model.evaluate(validation_generator)"
   ]
  },
  {
   "cell_type": "markdown",
   "metadata": {
    "id": "DYuS8hTEk5bh"
   },
   "source": [
    "# Xception"
   ]
  },
  {
   "cell_type": "code",
   "execution_count": 35,
   "metadata": {
    "colab": {
     "base_uri": "https://localhost:8080/"
    },
    "id": "e7aHB-CDk5A7",
    "outputId": "c1f0e421-04b5-4bba-eade-b2c6d181f4c9"
   },
   "outputs": [
    {
     "name": "stdout",
     "output_type": "stream",
     "text": [
      "Downloading data from https://storage.googleapis.com/tensorflow/keras-applications/xception/xception_weights_tf_dim_ordering_tf_kernels_notop.h5\n",
      "83689472/83683744 [==============================] - 0s 0us/step\n"
     ]
    }
   ],
   "source": [
    "def load_model():\n",
    "    model = Xception(weights=\"imagenet\", include_top=False, \n",
    "                     classes=7, input_shape=(224, 224, 3), classifier_activation=\"softmax\")\n",
    "    \n",
    "    return model\n",
    "def set_nontrainable_layers(model):\n",
    "    # Set the first layers to be untrainable\n",
    "    model.trainable = False \n",
    "    return model\n",
    "\n",
    "def add_last_layers(model):\n",
    "    base_model = set_nontrainable_layers(model)\n",
    "    flatten_layer = layers.Flatten()\n",
    "    dense_layer = layers.Dense(500, activation='relu')\n",
    "    prediction_layer = layers.Dense(7, activation='softmax')\n",
    "    \n",
    "    \n",
    "    model = models.Sequential([\n",
    "        base_model,\n",
    "        flatten_layer,\n",
    "        dense_layer,\n",
    "        prediction_layer\n",
    "    ])\n",
    "    \n",
    "    return model\n",
    "\n",
    "def compile_model(model):\n",
    "    opt = optimizers.Adam(learning_rate=1e-4)\n",
    "    model.compile(loss='categorical_crossentropy',\n",
    "                  optimizer=opt,\n",
    "                  metrics=['accuracy'])\n",
    "    \n",
    "    return model\n",
    "\n",
    "def build_model():\n",
    "    \n",
    "    model = load_model()\n",
    "    model = add_last_layers(model)\n",
    "    model = compile_model(model)\n",
    "    \n",
    "    return model\n",
    "\n",
    "x_model = build_model()"
   ]
  },
  {
   "cell_type": "code",
   "execution_count": 36,
   "metadata": {
    "colab": {
     "base_uri": "https://localhost:8080/"
    },
    "id": "i9HFa4zklxHq",
    "outputId": "8b367f39-fc90-4af4-cee6-803e8c900dd5"
   },
   "outputs": [
    {
     "name": "stdout",
     "output_type": "stream",
     "text": [
      "Model: \"sequential\"\n",
      "_________________________________________________________________\n",
      "Layer (type)                 Output Shape              Param #   \n",
      "=================================================================\n",
      "xception (Functional)        (None, 7, 7, 2048)        20861480  \n",
      "_________________________________________________________________\n",
      "flatten (Flatten)            (None, 100352)            0         \n",
      "_________________________________________________________________\n",
      "dense (Dense)                (None, 500)               50176500  \n",
      "_________________________________________________________________\n",
      "dense_1 (Dense)              (None, 7)                 3507      \n",
      "=================================================================\n",
      "Total params: 71,041,487\n",
      "Trainable params: 50,180,007\n",
      "Non-trainable params: 20,861,480\n",
      "_________________________________________________________________\n"
     ]
    }
   ],
   "source": [
    "x_model.summary()"
   ]
  },
  {
   "cell_type": "code",
   "execution_count": 37,
   "metadata": {
    "colab": {
     "base_uri": "https://localhost:8080/"
    },
    "id": "x5XiDpD9l11A",
    "outputId": "b34efd17-9d23-4dab-9201-0dd081ac3fbe"
   },
   "outputs": [
    {
     "name": "stdout",
     "output_type": "stream",
     "text": [
      "Epoch 1/100\n",
      "99/99 [==============================] - 40s 380ms/step - loss: 2.1663 - accuracy: 0.2605 - val_loss: 1.7845 - val_accuracy: 0.3200\n",
      "Epoch 2/100\n",
      "99/99 [==============================] - 37s 372ms/step - loss: 1.5932 - accuracy: 0.3806 - val_loss: 1.6003 - val_accuracy: 0.3829\n",
      "Epoch 3/100\n",
      "99/99 [==============================] - 37s 371ms/step - loss: 1.5617 - accuracy: 0.3842 - val_loss: 1.6839 - val_accuracy: 0.3257\n",
      "Epoch 4/100\n",
      "99/99 [==============================] - 37s 373ms/step - loss: 1.5174 - accuracy: 0.4258 - val_loss: 1.6358 - val_accuracy: 0.3600\n",
      "Epoch 5/100\n",
      "99/99 [==============================] - 37s 375ms/step - loss: 1.4676 - accuracy: 0.4318 - val_loss: 1.6447 - val_accuracy: 0.3829\n",
      "Epoch 6/100\n",
      "99/99 [==============================] - 37s 375ms/step - loss: 1.4578 - accuracy: 0.4425 - val_loss: 1.6104 - val_accuracy: 0.4171\n",
      "Epoch 7/100\n",
      "99/99 [==============================] - 37s 375ms/step - loss: 1.4330 - accuracy: 0.4427 - val_loss: 1.5667 - val_accuracy: 0.3829\n",
      "Epoch 8/100\n",
      "99/99 [==============================] - 37s 375ms/step - loss: 1.4164 - accuracy: 0.4414 - val_loss: 1.5491 - val_accuracy: 0.3886\n",
      "Epoch 9/100\n",
      "99/99 [==============================] - 37s 375ms/step - loss: 1.4271 - accuracy: 0.4627 - val_loss: 1.5223 - val_accuracy: 0.4057\n",
      "Epoch 10/100\n",
      "99/99 [==============================] - 37s 374ms/step - loss: 1.3695 - accuracy: 0.4727 - val_loss: 1.6075 - val_accuracy: 0.4286\n",
      "Epoch 11/100\n",
      "99/99 [==============================] - 37s 372ms/step - loss: 1.4234 - accuracy: 0.4570 - val_loss: 1.5047 - val_accuracy: 0.4343\n",
      "Epoch 12/100\n",
      "99/99 [==============================] - 37s 372ms/step - loss: 1.3882 - accuracy: 0.4585 - val_loss: 1.5844 - val_accuracy: 0.3657\n",
      "Epoch 13/100\n",
      "99/99 [==============================] - 37s 374ms/step - loss: 1.3871 - accuracy: 0.4595 - val_loss: 1.5134 - val_accuracy: 0.4229\n",
      "Epoch 14/100\n",
      "99/99 [==============================] - 37s 373ms/step - loss: 1.3413 - accuracy: 0.4883 - val_loss: 1.4694 - val_accuracy: 0.4343\n",
      "Epoch 15/100\n",
      "99/99 [==============================] - 37s 371ms/step - loss: 1.3256 - accuracy: 0.4837 - val_loss: 1.4807 - val_accuracy: 0.4286\n",
      "Epoch 16/100\n",
      "99/99 [==============================] - 37s 371ms/step - loss: 1.3290 - accuracy: 0.4969 - val_loss: 1.5534 - val_accuracy: 0.4286\n",
      "Restoring model weights from the end of the best epoch.\n",
      "Epoch 00016: early stopping\n"
     ]
    }
   ],
   "source": [
    "keras.backend.clear_session()\n",
    "es = EarlyStopping(monitor='val_accuracy', mode='max', patience=5, verbose=1, restore_best_weights=True)\n",
    "history = x_model.fit(train_generator,\n",
    "                    epochs=100,verbose=1,\n",
    "                    validation_data=validation_generator,\n",
    "                    callbacks=[es])"
   ]
  },
  {
   "cell_type": "code",
   "execution_count": 38,
   "metadata": {
    "colab": {
     "base_uri": "https://localhost:8080/",
     "height": 265
    },
    "id": "1fcjkhzVmCF4",
    "outputId": "a4c51c03-d70f-47e5-b64c-e316df8099d5"
   },
   "outputs": [
    {
     "data": {
      "image/png": "[encoded data removed]",
      "text/plain": [
       "<Figure size 432x288 with 1 Axes>"
      ]
     },
     "metadata": {
      "needs_background": "light",
      "tags": []
     },
     "output_type": "display_data"
    }
   ],
   "source": [
    "pd.DataFrame(history.history).plot();"
   ]
  },
  {
   "cell_type": "code",
   "execution_count": 40,
   "metadata": {
    "colab": {
     "base_uri": "https://localhost:8080/"
    },
    "id": "FaB6rmTOs3ny",
    "outputId": "85d8e579-e85c-417a-8126-8e3908f63040"
   },
   "outputs": [
    {
     "name": "stdout",
     "output_type": "stream",
     "text": [
      "6/6 [==============================] - 1s 122ms/step - loss: 1.5047 - accuracy: 0.4343\n"
     ]
    },
    {
     "data": {
      "text/plain": [
       "[1.5047041177749634, 0.4342857003211975]"
      ]
     },
     "execution_count": 40,
     "metadata": {
      "tags": []
     },
     "output_type": "execute_result"
    }
   ],
   "source": [
    "x_model.evaluate(validation_generator)"
   ]
  }
 ],
 "metadata": {
  "accelerator": "GPU",
  "colab": {
   "collapsed_sections": [],
   "name": "basic_500samples.ipynb",
   "provenance": []
  },
  "kernelspec": {
   "display_name": "Python 3",
   "language": "python",
   "name": "python3"
  },
  "language_info": {
   "codemirror_mode": {
    "name": "ipython",
    "version": 3
   },
   "file_extension": ".py",
   "mimetype": "text/x-python",
   "name": "python",
   "nbconvert_exporter": "python",
   "pygments_lexer": "ipython3",
   "version": "3.8.6"
  }
 },
 "nbformat": 4,
 "nbformat_minor": 1
}
